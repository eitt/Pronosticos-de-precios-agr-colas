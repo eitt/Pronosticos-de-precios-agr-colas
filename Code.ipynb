{
 "cells": [
  {
   "cell_type": "markdown",
   "metadata": {},
   "source": [
    "# Notebook relacionado con el pronóstico del precio de venta de los productos agricolas."
   ]
  },
  {
   "cell_type": "markdown",
   "metadata": {},
   "source": [
    "Teniendo en cuenta que las dos funciones objetivo del proyecto de investigación titulado: **Modelo de optimización multiobjetivo para la programación de la producción agrícola a pequeña escala en Santander, Colombia**,  tienen en consideración el parámetro de precios de venta de cada kilo de producto agrícola recogido durante el horizonte de planeación (e.g. Objetivo 1: Maximizar ingresos por ventas, Objetivo 2: Minimizar riesgo financiero), y que la prueba del modelo se realizará en un contexto local (Departamento de Santander); se propone estimar el precios de venta de los productos a considerar durante el caso aplicado, mediante la formulación de modelos auto regresivo. Los modelos son desarrollados a partir del análisis histórico de los precios de venta por kilogramo de cada producto en la central de abastos de Bucaramanga, en un periodo comprendido entre la primera semana de enero de 2013 hasta la última semana de diciembre de 2017."
   ]
  },
  {
   "cell_type": "markdown",
   "metadata": {},
   "source": [
    "El Notebook está estructurado de tal manera que sea posible hacer un seguimiento a la construción de los modelos de pronósticos. Para ello, se divide en las siguientes secciones:\n",
    "\n",
    "[1. Adquisición de los datos y depuración](#seccion 1)\n",
    "\n",
    "[2. Verificación de los supuestos de _Estacionariedad_](#seccion 2)\n",
    "\n",
    "[3. Construcción general del modelo Arima](#seccion 3)\n",
    "\n",
    "[4. Construcción del modelo Garch](#seccion 4)\n",
    "\n",
    "[5. Ecuaciones de pronóstico](#seccion 5)\n",
    "\n",
    "[6. Discusión y observaciones generales](#seccion 6)"
   ]
  },
  {
   "cell_type": "markdown",
   "metadata": {},
   "source": [
    "# <a id='seccion 1'></a> 1. Adquisición de los datos y depuración"
   ]
  },
  {
   "cell_type": "markdown",
   "metadata": {},
   "source": [
    "En la primera sección se cargan los paquetes necesarios para trabajar los modelos de pronósticos:"
   ]
  },
  {
   "cell_type": "code",
   "execution_count": 2,
   "metadata": {},
   "outputs": [],
   "source": [
    "options(warm=-1) # No mostar mensajes de alerta"
   ]
  },
  {
   "cell_type": "code",
   "execution_count": 4,
   "metadata": {},
   "outputs": [],
   "source": [
    "library(randtests)#Evaluar pruebas de estacionariedad\n",
    "library(tseries)  #Evaluar pruebas de estacionariedad\n",
    "library(urca)     #Evaluar la presencia de raices unitarias\n",
    "library(Amelia)   #Imputar datos\n",
    "library(lmtest)   #Generar modelos de regresión lineal\n",
    "library(mice)     #Imputar datos\n",
    "library(readr)    #Cargar archivos csv\n",
    "library(ggplot2)  #Construcción de gráficas\n",
    "library(forecast) #Modelos de pronóstico\n",
    "library(reshape2) #Construcción de gráficas\n",
    "library(VIM)      #Imputación de datos\n",
    "library(rugarch)  #Generar modelos de pronóstico de volatilidad"
   ]
  },
  {
   "cell_type": "markdown",
   "metadata": {},
   "source": [
    "Ahora es cargada la base de datos de precios y se observan los campos que la componen:"
   ]
  },
  {
   "cell_type": "code",
   "execution_count": 5,
   "metadata": {},
   "outputs": [],
   "source": [
    "DATA <- read.csv(file=\"DATA_BUCARA.csv\", header=TRUE, sep=\";\") \n",
    "# carga desde archivo .csv ubicado en el directorio raiz\"\n",
    "DATA <- as.data.frame(DATA) \n",
    "#transformación de los datos a formato Data Frame"
   ]
  },
  {
   "cell_type": "markdown",
   "metadata": {},
   "source": [
    "## Descripción del Dataset"
   ]
  },
  {
   "cell_type": "code",
   "execution_count": 8,
   "metadata": {},
   "outputs": [
    {
     "name": "stdout",
     "output_type": "stream",
     "text": [
      "[1] \"Visualización de los 5 primeros datos y 5 variables\"\n"
     ]
    },
    {
     "data": {
      "text/html": [
       "<table>\n",
       "<thead><tr><th scope=col>Fecha</th><th scope=col>Ahuyama</th><th scope=col>Arverja</th><th scope=col>Cebolla.Cabezona</th><th scope=col>Cebolla.junca</th></tr></thead>\n",
       "<tbody>\n",
       "\t<tr><td>04/01/2013</td><td>676       </td><td>2158      </td><td>933       </td><td>920       </td></tr>\n",
       "\t<tr><td>11/01/2013</td><td>652       </td><td>1921      </td><td>823       </td><td>665       </td></tr>\n",
       "\t<tr><td>12/01/2013</td><td>614       </td><td>1761      </td><td>718       </td><td>724       </td></tr>\n",
       "\t<tr><td>19/01/2013</td><td>636       </td><td>1750      </td><td>700       </td><td>604       </td></tr>\n",
       "\t<tr><td>26/01/2013</td><td>619       </td><td>1905      </td><td>625       </td><td>646       </td></tr>\n",
       "\t<tr><td>02/02/2013</td><td>620       </td><td>1892      </td><td>630       </td><td>657       </td></tr>\n",
       "</tbody>\n",
       "</table>\n"
      ],
      "text/latex": [
       "\\begin{tabular}{r|lllll}\n",
       " Fecha & Ahuyama & Arverja & Cebolla.Cabezona & Cebolla.junca\\\\\n",
       "\\hline\n",
       "\t 04/01/2013 & 676        & 2158       & 933        & 920       \\\\\n",
       "\t 11/01/2013 & 652        & 1921       & 823        & 665       \\\\\n",
       "\t 12/01/2013 & 614        & 1761       & 718        & 724       \\\\\n",
       "\t 19/01/2013 & 636        & 1750       & 700        & 604       \\\\\n",
       "\t 26/01/2013 & 619        & 1905       & 625        & 646       \\\\\n",
       "\t 02/02/2013 & 620        & 1892       & 630        & 657       \\\\\n",
       "\\end{tabular}\n"
      ],
      "text/markdown": [
       "\n",
       "Fecha | Ahuyama | Arverja | Cebolla.Cabezona | Cebolla.junca | \n",
       "|---|---|---|---|---|---|\n",
       "| 04/01/2013 | 676        | 2158       | 933        | 920        | \n",
       "| 11/01/2013 | 652        | 1921       | 823        | 665        | \n",
       "| 12/01/2013 | 614        | 1761       | 718        | 724        | \n",
       "| 19/01/2013 | 636        | 1750       | 700        | 604        | \n",
       "| 26/01/2013 | 619        | 1905       | 625        | 646        | \n",
       "| 02/02/2013 | 620        | 1892       | 630        | 657        | \n",
       "\n",
       "\n"
      ],
      "text/plain": [
       "  Fecha      Ahuyama Arverja Cebolla.Cabezona Cebolla.junca\n",
       "1 04/01/2013 676     2158    933              920          \n",
       "2 11/01/2013 652     1921    823              665          \n",
       "3 12/01/2013 614     1761    718              724          \n",
       "4 19/01/2013 636     1750    700              604          \n",
       "5 26/01/2013 619     1905    625              646          \n",
       "6 02/02/2013 620     1892    630              657          "
      ]
     },
     "metadata": {},
     "output_type": "display_data"
    },
    {
     "name": "stdout",
     "output_type": "stream",
     "text": [
      "[1] \"Características de los datos y 5 variables\"\n",
      "'data.frame':\t261 obs. of  5 variables:\n",
      " $ Ahuyama         : int  676 652 614 636 619 620 632 600 581 600 ...\n",
      " $ Arverja         : int  2158 1921 1761 1750 1905 1892 1711 1893 1975 3520 ...\n",
      " $ Cebolla.Cabezona: int  933 823 718 700 625 630 633 575 506 575 ...\n",
      " $ Cebolla.junca   : int  920 665 724 604 646 657 622 668 623 689 ...\n",
      " $ Cilantro        : int  5569 7317 6250 3854 4333 6833 7719 9619 NA NA ...\n",
      "NULL\n",
      "[1] \"Resumen descriptivo de los datos y 5 variables\"\n"
     ]
    },
    {
     "data": {
      "text/plain": [
       "        Fecha        Ahuyama          Arverja     Cebolla.Cabezona\n",
       " 21/12/2013:  2   Min.   : 422.0   Min.   :1163   Min.   : 386    \n",
       " 01/02/2014:  1   1st Qu.: 568.0   1st Qu.:2160   1st Qu.: 808    \n",
       " 01/03/2014:  1   Median : 660.0   Median :2660   Median :1225    \n",
       " 01/04/2017:  1   Mean   : 700.4   Mean   :2933   Mean   :1301    \n",
       " 01/05/2015:  1   3rd Qu.: 800.0   3rd Qu.:3350   3rd Qu.:1657    \n",
       " 01/07/2017:  1   Max.   :1354.0   Max.   :8033   Max.   :3350    \n",
       " (Other)   :254                    NA's   :1                      \n",
       " Cebolla.junca \n",
       " Min.   : 418  \n",
       " 1st Qu.: 810  \n",
       " Median :1019  \n",
       " Mean   :1113  \n",
       " 3rd Qu.:1245  \n",
       " Max.   :3239  \n",
       "               "
      ]
     },
     "metadata": {},
     "output_type": "display_data"
    },
    {
     "name": "stdout",
     "output_type": "stream",
     "text": [
      "[1] \"Visualización de los datos perdidos\"\n"
     ]
    },
    {
     "data": {},
     "metadata": {},
     "output_type": "display_data"
    },
    {
     "data": {
      "image/png": "[encoded data removed]",
      "text/plain": [
       "plot without title"
      ]
     },
     "metadata": {},
     "output_type": "display_data"
    }
   ],
   "source": [
    "#A continuación se expone el código para describir el dataset.\n",
    "print(\"Visualización de los 5 primeros datos y 5 variables\")\n",
    "head(DATA[,1:5])\n",
    "print(\"Características de los datos y 5 variables\")\n",
    "#Para mejorar la visualización, no se muestra la variable Fecha\n",
    "print(str(DATA[,2:6]))\n",
    "print(\"Resumen descriptivo de los datos y 5 variables\")\n",
    "summary(DATA[,1:5])\n",
    "print(\"Visualización de los datos perdidos\")\n",
    "#Con el propósito de identificar si existen datos perdidos \n",
    "#(una aproximación visual), se adapta una función creada por\n",
    "#Nicholas Tierney \n",
    "#https://njtierney.github.io/\n",
    "\n",
    "#Inicio de la función\n",
    "ggplot_missing <- function(x){\n",
    "  \n",
    "x %>% \n",
    "is.na %>%\n",
    "melt %>%\n",
    "ggplot(data = .,\n",
    "aes(x = Var2,\n",
    "y = Var1)) +\n",
    "geom_raster(aes(fill = value)) +\n",
    "scale_fill_grey(name = \"\",\n",
    "labels = c(\"Presentes\",\"Perdidos\")) +\n",
    "theme_minimal() + \n",
    "theme(axis.text.x  = element_text(angle=45, vjust=0.5)) + \n",
    "labs(x = \"Variables en el Dataset\",\n",
    "y = \"Filas / observaciones\")\n",
    "}\n",
    "#Fin de la Función\n",
    "ggplot_missing(DATA)"
   ]
  },
  {
   "cell_type": "markdown",
   "metadata": {},
   "source": [
    "## Imputación del Dataset"
   ]
  },
  {
   "cell_type": "markdown",
   "metadata": {},
   "source": [
    "Teniendo en cuenta que no están presentes todos los datos en el Dataset de precios, se procede a realizar la imputación del mismo. Para la imputación se realiza un cálculo previo de la cantidad de datos perdidos, con dicho valor y teniendo en cuenta la dispersión de los datos observadas en la Figura **Visualización de datos perdidos**, se selecciona la imputación de promedio de k vecinos, con 5 vecinos ya que  es un método de clasificación supervisada (Aprendizaje, estimación basada en un conjunto de entrenamiento y prototipos) que sirve para estimar la función de densidad ${F(x/Cj)}$ de las predictoras ${x}$ por cada clase ${C_{j}}$ (Fix,1989)"
   ]
  },
  {
   "cell_type": "code",
   "execution_count": 19,
   "metadata": {},
   "outputs": [
    {
     "name": "stdout",
     "output_type": "stream",
     "text": [
      "[1] \"La cantidad de datos perdido por variable antes de imputar es\"\n"
     ]
    },
    {
     "data": {
      "text/html": [
       "<dl class=dl-horizontal>\n",
       "\t<dt>Fecha</dt>\n",
       "\t\t<dd>0</dd>\n",
       "\t<dt>Ahuyama</dt>\n",
       "\t\t<dd>0</dd>\n",
       "\t<dt>Arverja</dt>\n",
       "\t\t<dd>1</dd>\n",
       "\t<dt>Cebolla.Cabezona</dt>\n",
       "\t\t<dd>0</dd>\n",
       "\t<dt>Cebolla.junca</dt>\n",
       "\t\t<dd>0</dd>\n",
       "\t<dt>Cilantro</dt>\n",
       "\t\t<dd>3</dd>\n",
       "\t<dt>Cebada</dt>\n",
       "\t\t<dd>0</dd>\n",
       "\t<dt>Maiz</dt>\n",
       "\t\t<dd>0</dd>\n",
       "\t<dt>Frijol</dt>\n",
       "\t\t<dd>0</dd>\n",
       "\t<dt>Habichuela</dt>\n",
       "\t\t<dd>0</dd>\n",
       "\t<dt>Lechuga</dt>\n",
       "\t\t<dd>0</dd>\n",
       "\t<dt>Perejil</dt>\n",
       "\t\t<dd>1</dd>\n",
       "\t<dt>Pimenton</dt>\n",
       "\t\t<dd>0</dd>\n",
       "\t<dt>Tomate</dt>\n",
       "\t\t<dd>0</dd>\n",
       "\t<dt>Banano</dt>\n",
       "\t\t<dd>0</dd>\n",
       "\t<dt>Lulo</dt>\n",
       "\t\t<dd>0</dd>\n",
       "\t<dt>Papaya</dt>\n",
       "\t\t<dd>0</dd>\n",
       "\t<dt>Pinna</dt>\n",
       "\t\t<dd>0</dd>\n",
       "\t<dt>Arracacha</dt>\n",
       "\t\t<dd>0</dd>\n",
       "\t<dt>Papa</dt>\n",
       "\t\t<dd>15</dd>\n",
       "\t<dt>Plátano</dt>\n",
       "\t\t<dd>0</dd>\n",
       "\t<dt>Yuca</dt>\n",
       "\t\t<dd>0</dd>\n",
       "</dl>\n"
      ],
      "text/latex": [
       "\\begin{description*}\n",
       "\\item[Fecha] 0\n",
       "\\item[Ahuyama] 0\n",
       "\\item[Arverja] 1\n",
       "\\item[Cebolla.Cabezona] 0\n",
       "\\item[Cebolla.junca] 0\n",
       "\\item[Cilantro] 3\n",
       "\\item[Cebada] 0\n",
       "\\item[Maiz] 0\n",
       "\\item[Frijol] 0\n",
       "\\item[Habichuela] 0\n",
       "\\item[Lechuga] 0\n",
       "\\item[Perejil] 1\n",
       "\\item[Pimenton] 0\n",
       "\\item[Tomate] 0\n",
       "\\item[Banano] 0\n",
       "\\item[Lulo] 0\n",
       "\\item[Papaya] 0\n",
       "\\item[Pinna] 0\n",
       "\\item[Arracacha] 0\n",
       "\\item[Papa] 15\n",
       "\\item[Plátano] 0\n",
       "\\item[Yuca] 0\n",
       "\\end{description*}\n"
      ],
      "text/markdown": [
       "Fecha\n",
       ":   0Ahuyama\n",
       ":   0Arverja\n",
       ":   1Cebolla.Cabezona\n",
       ":   0Cebolla.junca\n",
       ":   0Cilantro\n",
       ":   3Cebada\n",
       ":   0Maiz\n",
       ":   0Frijol\n",
       ":   0Habichuela\n",
       ":   0Lechuga\n",
       ":   0Perejil\n",
       ":   1Pimenton\n",
       ":   0Tomate\n",
       ":   0Banano\n",
       ":   0Lulo\n",
       ":   0Papaya\n",
       ":   0Pinna\n",
       ":   0Arracacha\n",
       ":   0Papa\n",
       ":   15Plátano\n",
       ":   0Yuca\n",
       ":   0\n",
       "\n"
      ],
      "text/plain": [
       "           Fecha          Ahuyama          Arverja Cebolla.Cabezona \n",
       "               0                0                1                0 \n",
       "   Cebolla.junca         Cilantro           Cebada             Maiz \n",
       "               0                3                0                0 \n",
       "          Frijol       Habichuela          Lechuga          Perejil \n",
       "               0                0                0                1 \n",
       "        Pimenton           Tomate           Banano             Lulo \n",
       "               0                0                0                0 \n",
       "          Papaya            Pinna        Arracacha             Papa \n",
       "               0                0                0               15 \n",
       "         Plátano             Yuca \n",
       "               0                0 "
      ]
     },
     "metadata": {},
     "output_type": "display_data"
    }
   ],
   "source": [
    "#Primero se hace un cálculo de datos perdidos\n",
    "print(\"La cantidad de datos perdido por variable antes de imputar es\")\n",
    "colSums(is.na (DATA))\n",
    "#Se realiza la imputación mediante k vecinos\n",
    "#Se aplica la función kNN (K Nearest Neighbour Imputation) \n",
    "#y se guarda como una nueva variable\n",
    "DATA_IMP<-kNN(DATA, variable = colnames(DATA), metric = NULL, k = 5,\n",
    "dist_var = colnames(DATA), weights = NULL, numFun = median,\n",
    "catFun = maxCat, makeNA = NULL, NAcond = NULL, impNA = TRUE,\n",
    "donorcond = NULL, mixed = vector(), mixed.constant = NULL,\n",
    "trace = FALSE, imp_var = TRUE, imp_suffix = \"imp\", addRandom = FALSE,\n",
    "useImputedDist = TRUE, weightDist = FALSE)\n",
    "#Los datos son actualizados en el Dataframe\n",
    "DATA<-as.data.frame(DATA_IMP[,1:length(DATA)])"
   ]
  },
  {
   "cell_type": "markdown",
   "metadata": {},
   "source": [
    "Finalmente, las series históricas se presentan visualmente a continuación:"
   ]
  },
  {
   "cell_type": "code",
   "execution_count": 20,
   "metadata": {},
   "outputs": [
    {
     "name": "stderr",
     "output_type": "stream",
     "text": [
      "Warning message:\n",
      "\"Removed 155 rows containing missing values (geom_path).\""
     ]
    },
    {
     "data": {
      "image/png": "[encoded data removed]",
      "text/plain": [
       "plot without title"
      ]
     },
     "metadata": {},
     "output_type": "display_data"
    }
   ],
   "source": [
    "#Primero se construye una función para graficar todas las \n",
    "#series de manera independiente utilziando un bucle\n",
    "\n",
    "#Creación de la función\n",
    "GRAFICAR <- function(x, na.rm = TRUE, ...)\n",
    "{\n",
    "nm <- names(x)\n",
    "for (i in seq_along(nm[2:length(x[1,])])) \n",
    "{\n",
    "plots <-ggplot(x,aes(as.Date.character(x[,1],\"%m/%d/%Y\"),+\n",
    "x[,(i+1)])) + geom_line()\n",
    "plots<-plots+labs(x = \"Fecha\")+labs(y = \"Pesos colombianos [COP]\")+\n",
    "labs(title = \"Precio historico para el producto:\", subtitle = nm[i+1])+\n",
    "scale_x_date(date_labels = \"%b %Y\")\n",
    "print(plots)\n",
    "#Opcional si desean guardar la imagen\n",
    "#ggplot(x,aes(x[,1], x[,(i)])) + geom_line()\n",
    "#ggsave(plots,filename=paste(\"00 \",nm[i],\".png\",sep=\"\"))\n",
    "}\n",
    "}\n",
    "#Fin de la función\n",
    "\n",
    "#Se ejecuta la función, y se meustra el ejemplo de la primera\n",
    "#gráfica\n",
    "GRAFICAR(DATA[1:2])"
   ]
  },
  {
   "cell_type": "markdown",
   "metadata": {},
   "source": [
    "# <a id='seccion 2'></a> 2. Verificación de los supuestos de Estacionariedad"
   ]
  },
  {
   "cell_type": "markdown",
   "metadata": {},
   "source": [
    "Una vez construído el Dataset, se aplican diversas pruebas con el propósito de determinan si las series son o no estacionarias, de no presentar esa característica, el siguiente paso es transformar las series a estacionarias para posteriormente generar los modelos."
   ]
  },
  {
   "cell_type": "markdown",
   "metadata": {},
   "source": [
    "## 2.1 Descripción de las pruebas"
   ]
  },
  {
   "cell_type": "markdown",
   "metadata": {},
   "source": [
    "### 2.1.1 Prueba de raiz Unitaria"
   ]
  },
  {
   "cell_type": "markdown",
   "metadata": {},
   "source": [
    "Las primeras tres pruebas aplicadas durante el presente trabajo pertenecen a la familia de las raíces unitarias, las cuales según citan Nisar y Hanif: (2012, p. 418) “pueden ser usadas para evaluar la eficiencia de los mercados, puesto que dicho comportamiento demanda aleatoriedad (i.e. serie no estacionaria) en los precios (Hassan, Abdullah, & Shah, 2007)”. \n",
    "\n",
    "**1. Raíz unitaria con deriva y con tendencia** La primera prueba se enfoca en determinar si el modelo general de regresión se comporta como el descrito a continuación: \n",
    "\\begin{equation*}\n",
    "Y_t= β_1  + β_2 t + β_3 Y_(t-1)  + u_t\n",
    "\\end{equation*}\n",
    "Donde $u_t$ es un término de error de ruido blanco (se distribuye normalmente con media = 0 y varianza = 1), $t$ es el tiempo medido cronológicamente, $Y_t$ la realización de la serie, $β_1$ indica el valor de deriva, $β_2$ la tendencia temporal y $β_3$ la raíz del proceso.\n",
    "\n",
    "**2. Raíz unitaria con deriva y sin tendencia** Del modelo general de regresión se puede presentar una forma especial en la cual $β_1≠0$, $β_2=0$, $β_3=1$, y se conoce como Caminata Aleatoria con Deriva (CAD), ésta se caracteriza por ser no estacionaria con tendencia determinista:\n",
    "\\begin{equation*}\n",
    "Y_t= β_1  +  β_3 Y_(t-1)  + u_t\n",
    "\\end{equation*}\n",
    "\n",
    "**3. Raíz unitaria sin deriva y sin tendencia**  Del modelo general de regresión se puede presentar una forma especial en la cual $β_1=0$, $β_2=0$, $β_3=1$, y es conocido como Caminata Aleatoria Pura (CAP), el cual genera un proceso no estacionario:\n",
    "\n",
    "\\begin{equation*}\n",
    "Y_t= Y_(t-1)  + u_t\n",
    "\\end{equation*}\n"
   ]
  },
  {
   "cell_type": "markdown",
   "metadata": {},
   "source": [
    "### 2.1.2 Prueba de rachas (Prueba de Geary)"
   ]
  },
  {
   "cell_type": "markdown",
   "metadata": {},
   "source": [
    "El cuarto test aplicado es una prueba no paramétrica que busca determinar si las realizaciones en una serie siguen un comportamiento aleatorio (Geary, 1935; Gujarati & Porter, 2010), para ello se estima un valor crítico Z teniendo en cuenta la siguiente ecuación:\n",
    "\\begin{equation*}\n",
    "Z= R-X⁄σ^2 \n",
    "\\end{equation*}\n",
    "Donde $Z$ es una variable que se distribuye de manera Normal, $R$ es el número total de rachas, $X=  ((2*n^1*n^2 ))⁄((n)+1)$ (Media de la serie), $n^1$  representa el número total de rachas positivas, $n^2$ el número total de rachas negativas, $n= (n^1+n^2 )$, $ σ^2= ((2*n^1*n^2*(2*n^1*n^2-n)))⁄(((n)^2*(n-1)))$ (Varianza de la serie)."
   ]
  },
  {
   "cell_type": "markdown",
   "metadata": {},
   "source": [
    "### 2.1.3 Análisis de Auto correlaciones (Prueba d, de Dubrin-Watson)"
   ]
  },
  {
   "cell_type": "markdown",
   "metadata": {},
   "source": [
    "La quinta prueba es el análisis de auto correlaciones de Durbin-Watson (Savin & White, 1977), ésta se utiliza para detectar la presencia de auto correlación en los residuos (errores de predicción) de un análisis de la regresión. El estadístico es calculado a continuación:\n",
    "\n",
    "\\begin{equation*}\n",
    "d=\\frac{\\sum_{t=2}^T (e_t-e_(t-1))^2}{\\sum_{t=1}^T(e_t)^2}\n",
    "\\end{equation*}\n",
    "\n",
    "Donde $d≈(2- β_3)$, i8ndicando que $β_3$ representa el grado de correlación de la muestra de los residuos. Un valor \"d = 2 \" indica que no hay auto correlación.\n"
   ]
  },
  {
   "cell_type": "markdown",
   "metadata": {},
   "source": [
    "### 2.1.4 Estimación del coeficiente de Hurst"
   ]
  },
  {
   "cell_type": "markdown",
   "metadata": {},
   "source": [
    "La sexta prueba es la estimación del coeficiente de Hurst, éste es una medida que indica el grado de independencia de las series de tiempo. Cuando el valor del coeficiente se encuentre en $H=0.5$, se considera que la serie tiene un comportamiento de ruido blanco. Por otra parte, si $(0.5≤H<1]$ se dice que la serie presenta persistencia o auto correlaciones, de manera análoga, si  $[0≤H≤0.5)$ la serie presenta un comportamiento anti persistente o de correlación negativa. Durante el presente trabajo es aplicada la variante propuesta por Andrew Lo, la cual tiene en cuenta la memoria interna de la serie, donde ${\\hat\\sigma_x}^2 $ y ${\\hat y_j}^2 $ son los estimadores de varianza y covarianza de la serie, $a$ el tamaño de la subserie, $R(N)$ el rango de datos de la subserie:\n",
    "\n",
    "\\begin{equation*}\n",
    "F'(N)= \\frac{R(N)}{({\\hat\\sigma_x}^2 +2\\sum_{j=1}^a(1-\\frac{j}{a+1})*\\hat{y_j})^2}\n",
    "\\end{equation*}"
   ]
  },
  {
   "cell_type": "markdown",
   "metadata": {},
   "source": [
    "## 2.2 Resultados de las pruebas"
   ]
  },
  {
   "cell_type": "code",
   "execution_count": 56,
   "metadata": {},
   "outputs": [
    {
     "data": {
      "text/html": [
       "<table>\n",
       "<thead><tr><th></th><th scope=col>Raiz \n",
       " Unitaria (R.U.)</th><th scope=col>R.U. \n",
       " sin tendencia</th><th scope=col>R.U.\n",
       " sin tendencia \n",
       "y sin deriva</th><th scope=col>Prueba \n",
       " de rachas</th><th scope=col>Auto \n",
       " correlaciones</th><th scope=col>Coeficiente \n",
       " de Hurst</th><th scope=col>NOMBRE</th></tr></thead>\n",
       "<tbody>\n",
       "\t<tr><th scope=row>Ahuyama</th><td>0.010           </td><td>0.003           </td><td>0.420           </td><td>0.083           </td><td>0               </td><td>0.323           </td><td>Ahuyama         </td></tr>\n",
       "\t<tr><th scope=row>Arverja</th><td>0.016           </td><td>0.001           </td><td>0.224           </td><td>0.384           </td><td>0               </td><td>0.275           </td><td>Arverja         </td></tr>\n",
       "\t<tr><th scope=row>Cebolla.Cabezona</th><td>0.054           </td><td>0.003           </td><td>0.283           </td><td>0.013           </td><td>0               </td><td>0.297           </td><td>Cebolla.Cabezona</td></tr>\n",
       "\t<tr><th scope=row>Cebolla.junca</th><td>0.013           </td><td>0.000           </td><td>0.015           </td><td>0.000           </td><td>0               </td><td>0.279           </td><td>Cebolla.junca   </td></tr>\n",
       "\t<tr><th scope=row>Cilantro</th><td>0.000           </td><td>0.000           </td><td>0.170           </td><td>0.618           </td><td>0               </td><td>0.275           </td><td>Cilantro        </td></tr>\n",
       "\t<tr><th scope=row>Cebada</th><td>0.000           </td><td>0.000           </td><td>0.000           </td><td>0.000           </td><td>0               </td><td>0.378           </td><td>Cebada          </td></tr>\n",
       "\t<tr><th scope=row>Maiz</th><td>0.000           </td><td>0.000           </td><td>0.000           </td><td>0.000           </td><td>0               </td><td>0.083           </td><td>Maiz            </td></tr>\n",
       "\t<tr><th scope=row>Frijol</th><td>0.000           </td><td>0.000           </td><td>0.299           </td><td>0.709           </td><td>0               </td><td>0.333           </td><td>Frijol          </td></tr>\n",
       "\t<tr><th scope=row>Habichuela</th><td>0.000           </td><td>0.000           </td><td>0.480           </td><td>0.709           </td><td>0               </td><td>0.155           </td><td>Habichuela      </td></tr>\n",
       "\t<tr><th scope=row>Lechuga</th><td>0.000           </td><td>0.000           </td><td>0.477           </td><td>0.080           </td><td>0               </td><td>0.296           </td><td>Lechuga         </td></tr>\n",
       "\t<tr><th scope=row>Perejil</th><td>0.001           </td><td>0.000           </td><td>0.128           </td><td>0.270           </td><td>0               </td><td>0.244           </td><td>Perejil         </td></tr>\n",
       "\t<tr><th scope=row>Pimenton</th><td>0.001           </td><td>0.000           </td><td>0.072           </td><td>0.106           </td><td>0               </td><td>0.318           </td><td>Pimenton        </td></tr>\n",
       "\t<tr><th scope=row>Tomate</th><td>0.001           </td><td>0.000           </td><td>0.374           </td><td>0.901           </td><td>0               </td><td>0.177           </td><td>Tomate          </td></tr>\n",
       "\t<tr><th scope=row>Banano</th><td>0.000           </td><td>0.000           </td><td>0.003           </td><td>0.544           </td><td>0               </td><td>0.351           </td><td>Banano          </td></tr>\n",
       "\t<tr><th scope=row>Lulo</th><td>0.002           </td><td>0.002           </td><td>0.719           </td><td>0.901           </td><td>0               </td><td>0.468           </td><td>Lulo            </td></tr>\n",
       "\t<tr><th scope=row>Papaya</th><td>0.004           </td><td>0.003           </td><td>0.639           </td><td>0.000           </td><td>0               </td><td>0.391           </td><td>Papaya          </td></tr>\n",
       "\t<tr><th scope=row>Pinna</th><td>0.000           </td><td>0.000           </td><td>0.154           </td><td>0.106           </td><td>0               </td><td>0.165           </td><td>Pinna           </td></tr>\n",
       "\t<tr><th scope=row>Arracacha</th><td>0.262           </td><td>0.028           </td><td>0.499           </td><td>0.000           </td><td>0               </td><td>0.510           </td><td>Arracacha       </td></tr>\n",
       "\t<tr><th scope=row>Papa</th><td>0.043           </td><td>0.047           </td><td>0.885           </td><td>0.113           </td><td>0               </td><td>0.159           </td><td>Papa            </td></tr>\n",
       "\t<tr><th scope=row>Plátano</th><td>0.000           </td><td>0.000           </td><td>0.616           </td><td>0.047           </td><td>0               </td><td>0.110           </td><td>Plátano         </td></tr>\n",
       "\t<tr><th scope=row>Yuca</th><td>0.015           </td><td>0.001           </td><td>0.143           </td><td>0.001           </td><td>0               </td><td>0.611           </td><td>Yuca            </td></tr>\n",
       "</tbody>\n",
       "</table>\n"
      ],
      "text/latex": [
       "\\begin{tabular}{r|lllllll}\n",
       "  & Raiz \n",
       " Unitaria (R.U.) & R.U. \n",
       " sin tendencia & R.U.\n",
       " sin tendencia \n",
       "y sin deriva & Prueba \n",
       " de rachas & Auto \n",
       " correlaciones & Coeficiente \n",
       " de Hurst & NOMBRE\\\\\n",
       "\\hline\n",
       "\tAhuyama & 0.010            & 0.003            & 0.420            & 0.083            & 0                & 0.323            & Ahuyama         \\\\\n",
       "\tArverja & 0.016            & 0.001            & 0.224            & 0.384            & 0                & 0.275            & Arverja         \\\\\n",
       "\tCebolla.Cabezona & 0.054            & 0.003            & 0.283            & 0.013            & 0                & 0.297            & Cebolla.Cabezona\\\\\n",
       "\tCebolla.junca & 0.013            & 0.000            & 0.015            & 0.000            & 0                & 0.279            & Cebolla.junca   \\\\\n",
       "\tCilantro & 0.000            & 0.000            & 0.170            & 0.618            & 0                & 0.275            & Cilantro        \\\\\n",
       "\tCebada & 0.000            & 0.000            & 0.000            & 0.000            & 0                & 0.378            & Cebada          \\\\\n",
       "\tMaiz & 0.000            & 0.000            & 0.000            & 0.000            & 0                & 0.083            & Maiz            \\\\\n",
       "\tFrijol & 0.000            & 0.000            & 0.299            & 0.709            & 0                & 0.333            & Frijol          \\\\\n",
       "\tHabichuela & 0.000            & 0.000            & 0.480            & 0.709            & 0                & 0.155            & Habichuela      \\\\\n",
       "\tLechuga & 0.000            & 0.000            & 0.477            & 0.080            & 0                & 0.296            & Lechuga         \\\\\n",
       "\tPerejil & 0.001            & 0.000            & 0.128            & 0.270            & 0                & 0.244            & Perejil         \\\\\n",
       "\tPimenton & 0.001            & 0.000            & 0.072            & 0.106            & 0                & 0.318            & Pimenton        \\\\\n",
       "\tTomate & 0.001            & 0.000            & 0.374            & 0.901            & 0                & 0.177            & Tomate          \\\\\n",
       "\tBanano & 0.000            & 0.000            & 0.003            & 0.544            & 0                & 0.351            & Banano          \\\\\n",
       "\tLulo & 0.002            & 0.002            & 0.719            & 0.901            & 0                & 0.468            & Lulo            \\\\\n",
       "\tPapaya & 0.004            & 0.003            & 0.639            & 0.000            & 0                & 0.391            & Papaya          \\\\\n",
       "\tPinna & 0.000            & 0.000            & 0.154            & 0.106            & 0                & 0.165            & Pinna           \\\\\n",
       "\tArracacha & 0.262            & 0.028            & 0.499            & 0.000            & 0                & 0.510            & Arracacha       \\\\\n",
       "\tPapa & 0.043            & 0.047            & 0.885            & 0.113            & 0                & 0.159            & Papa            \\\\\n",
       "\tPlátano & 0.000            & 0.000            & 0.616            & 0.047            & 0                & 0.110            & Plátano         \\\\\n",
       "\tYuca & 0.015            & 0.001            & 0.143            & 0.001            & 0                & 0.611            & Yuca            \\\\\n",
       "\\end{tabular}\n"
      ],
      "text/markdown": [
       "\n",
       "| <!--/--> | Raiz \n",
       " Unitaria (R.U.) | R.U. \n",
       " sin tendencia | R.U.\n",
       " sin tendencia \n",
       "y sin deriva | Prueba \n",
       " de rachas | Auto \n",
       " correlaciones | Coeficiente \n",
       " de Hurst | NOMBRE | \n",
       "|---|---|---|---|---|---|---|---|---|---|---|---|---|---|---|---|---|---|---|---|---|\n",
       "| Ahuyama | 0.010            | 0.003            | 0.420            | 0.083            | 0                | 0.323            | Ahuyama          | \n",
       "| Arverja | 0.016            | 0.001            | 0.224            | 0.384            | 0                | 0.275            | Arverja          | \n",
       "| Cebolla.Cabezona | 0.054            | 0.003            | 0.283            | 0.013            | 0                | 0.297            | Cebolla.Cabezona | \n",
       "| Cebolla.junca | 0.013            | 0.000            | 0.015            | 0.000            | 0                | 0.279            | Cebolla.junca    | \n",
       "| Cilantro | 0.000            | 0.000            | 0.170            | 0.618            | 0                | 0.275            | Cilantro         | \n",
       "| Cebada | 0.000            | 0.000            | 0.000            | 0.000            | 0                | 0.378            | Cebada           | \n",
       "| Maiz | 0.000            | 0.000            | 0.000            | 0.000            | 0                | 0.083            | Maiz             | \n",
       "| Frijol | 0.000            | 0.000            | 0.299            | 0.709            | 0                | 0.333            | Frijol           | \n",
       "| Habichuela | 0.000            | 0.000            | 0.480            | 0.709            | 0                | 0.155            | Habichuela       | \n",
       "| Lechuga | 0.000            | 0.000            | 0.477            | 0.080            | 0                | 0.296            | Lechuga          | \n",
       "| Perejil | 0.001            | 0.000            | 0.128            | 0.270            | 0                | 0.244            | Perejil          | \n",
       "| Pimenton | 0.001            | 0.000            | 0.072            | 0.106            | 0                | 0.318            | Pimenton         | \n",
       "| Tomate | 0.001            | 0.000            | 0.374            | 0.901            | 0                | 0.177            | Tomate           | \n",
       "| Banano | 0.000            | 0.000            | 0.003            | 0.544            | 0                | 0.351            | Banano           | \n",
       "| Lulo | 0.002            | 0.002            | 0.719            | 0.901            | 0                | 0.468            | Lulo             | \n",
       "| Papaya | 0.004            | 0.003            | 0.639            | 0.000            | 0                | 0.391            | Papaya           | \n",
       "| Pinna | 0.000            | 0.000            | 0.154            | 0.106            | 0                | 0.165            | Pinna            | \n",
       "| Arracacha | 0.262            | 0.028            | 0.499            | 0.000            | 0                | 0.510            | Arracacha        | \n",
       "| Papa | 0.043            | 0.047            | 0.885            | 0.113            | 0                | 0.159            | Papa             | \n",
       "| Plátano | 0.000            | 0.000            | 0.616            | 0.047            | 0                | 0.110            | Plátano          | \n",
       "| Yuca | 0.015            | 0.001            | 0.143            | 0.001            | 0                | 0.611            | Yuca             | \n",
       "\n",
       "\n"
      ],
      "text/plain": [
       "                 Raiz \\n Unitaria (R.U.) R.U. \\n sin tendencia\n",
       "Ahuyama          0.010                   0.003                \n",
       "Arverja          0.016                   0.001                \n",
       "Cebolla.Cabezona 0.054                   0.003                \n",
       "Cebolla.junca    0.013                   0.000                \n",
       "Cilantro         0.000                   0.000                \n",
       "Cebada           0.000                   0.000                \n",
       "Maiz             0.000                   0.000                \n",
       "Frijol           0.000                   0.000                \n",
       "Habichuela       0.000                   0.000                \n",
       "Lechuga          0.000                   0.000                \n",
       "Perejil          0.001                   0.000                \n",
       "Pimenton         0.001                   0.000                \n",
       "Tomate           0.001                   0.000                \n",
       "Banano           0.000                   0.000                \n",
       "Lulo             0.002                   0.002                \n",
       "Papaya           0.004                   0.003                \n",
       "Pinna            0.000                   0.000                \n",
       "Arracacha        0.262                   0.028                \n",
       "Papa             0.043                   0.047                \n",
       "Plátano          0.000                   0.000                \n",
       "Yuca             0.015                   0.001                \n",
       "                 R.U.\\n sin tendencia \\ny sin deriva Prueba \\n de rachas\n",
       "Ahuyama          0.420                               0.083              \n",
       "Arverja          0.224                               0.384              \n",
       "Cebolla.Cabezona 0.283                               0.013              \n",
       "Cebolla.junca    0.015                               0.000              \n",
       "Cilantro         0.170                               0.618              \n",
       "Cebada           0.000                               0.000              \n",
       "Maiz             0.000                               0.000              \n",
       "Frijol           0.299                               0.709              \n",
       "Habichuela       0.480                               0.709              \n",
       "Lechuga          0.477                               0.080              \n",
       "Perejil          0.128                               0.270              \n",
       "Pimenton         0.072                               0.106              \n",
       "Tomate           0.374                               0.901              \n",
       "Banano           0.003                               0.544              \n",
       "Lulo             0.719                               0.901              \n",
       "Papaya           0.639                               0.000              \n",
       "Pinna            0.154                               0.106              \n",
       "Arracacha        0.499                               0.000              \n",
       "Papa             0.885                               0.113              \n",
       "Plátano          0.616                               0.047              \n",
       "Yuca             0.143                               0.001              \n",
       "                 Auto \\n correlaciones Coeficiente \\n de Hurst NOMBRE          \n",
       "Ahuyama          0                     0.323                   Ahuyama         \n",
       "Arverja          0                     0.275                   Arverja         \n",
       "Cebolla.Cabezona 0                     0.297                   Cebolla.Cabezona\n",
       "Cebolla.junca    0                     0.279                   Cebolla.junca   \n",
       "Cilantro         0                     0.275                   Cilantro        \n",
       "Cebada           0                     0.378                   Cebada          \n",
       "Maiz             0                     0.083                   Maiz            \n",
       "Frijol           0                     0.333                   Frijol          \n",
       "Habichuela       0                     0.155                   Habichuela      \n",
       "Lechuga          0                     0.296                   Lechuga         \n",
       "Perejil          0                     0.244                   Perejil         \n",
       "Pimenton         0                     0.318                   Pimenton        \n",
       "Tomate           0                     0.177                   Tomate          \n",
       "Banano           0                     0.351                   Banano          \n",
       "Lulo             0                     0.468                   Lulo            \n",
       "Papaya           0                     0.391                   Papaya          \n",
       "Pinna            0                     0.165                   Pinna           \n",
       "Arracacha        0                     0.510                   Arracacha       \n",
       "Papa             0                     0.159                   Papa            \n",
       "Plátano          0                     0.110                   Plátano         \n",
       "Yuca             0                     0.611                   Yuca            "
      ]
     },
     "metadata": {},
     "output_type": "display_data"
    }
   ],
   "source": [
    "#Con el fin de evitar sobre utilizar bucles, \n",
    "#para esta etapa se programará la estimación de \n",
    "#las pruebas, y éstas se imprimiran posteriormente\n",
    "\n",
    "#Se construye una variable donde se almacenarán \n",
    "#los resultados\n",
    "COEF<-as.data.frame(replicate(length(DATA[1,])-1, 0*(1:6)))\n",
    "\n",
    "#Se programa una función que estime el\n",
    "#coeficiente de Hurst\n",
    "#Inicio de la función\n",
    "hurst <- function(x)\n",
    "{\n",
    "  \n",
    "  N <- length(x)\n",
    "  s <- x[2:N]\n",
    "  t <-1:N\n",
    "  par1<-3\n",
    "  RS<-0*(1:par1)\n",
    "  tau<-RS\n",
    "  for(i in 1:par1){\n",
    "    m <- floor(N/(i))\n",
    "    R<-0*(1:i)\n",
    "    S<-0*(1:i)\n",
    "    Var<-R\n",
    "    for(j in 1:i){\n",
    "      smin<-1+(j-1)*m\n",
    "      smax<-j*m-1\n",
    "      r <- s[smin:smax]\n",
    "      M<-mean(r)\n",
    "      x2<-r-M\n",
    "      V <- cumsum(x2)\n",
    "      R[j]<-max(V)-min(V)\n",
    "      Var[j]<-var(r)\n",
    "      wj<-(1-(j/(i+1)))\n",
    "      x22<-0\n",
    "      for(z in 1:(length(x2)-1)){\n",
    "        x22[z]<-x2[z]*x2[z+1]\n",
    "      }\n",
    "      cova<-sum(x22)\n",
    "      S[j] <- (Var[j] +  2*wj*cova/m)^(0.5)\n",
    "    }\n",
    "    tau[i]<-m\n",
    "    RS[i]<-mean(R/S) \n",
    "  }\n",
    "  XX<- data.frame(log10(tau),log10(RS))\n",
    "  x <- XX$log10.tau.\n",
    "  y <- XX$log10.RS.\n",
    "  n <- nrow(XX)\n",
    "  xy <- x*y\n",
    "  m2 <- (n*sum(xy)-sum(x)*sum(y)) / (n*sum(x^2)-sum(x)^2)\n",
    "  m2\n",
    "  \n",
    "  return(m2)\n",
    "}\n",
    "#Fin de la función\n",
    "\n",
    "#Se inicia un bucle que recorra el listado de productos\n",
    "for(i in 1:(length(DATA[1,])-1))\n",
    "{\n",
    "#Prueba de raíz unitaria\n",
    "# Si el p-valor es menor que 0.05 no podemos rechazar \n",
    "#la hipótesis nula (para cada caso):\n",
    "#se transforman los datos\n",
    "DATA[,i+1]<-as.data.frame.vector(DATA[,i+1])\n",
    "\n",
    "#Se aplican todas las pruebas, bajo el supuesto de \n",
    "#la existencia de una tendencia, para evaluar \n",
    "#las 3 hipótesis\n",
    "#los datos son almacenados en la variable COEF\n",
    "#para las tres primeras filas\n",
    "\n",
    "df<-ur.df(DATA[,i+1],type=\"trend\",lags=0, selectlags = \"AIC\")\n",
    "#tendencia, \n",
    "COEF[1,i]<-summary(df)@testreg$coefficients[10] \n",
    "#Hipótesis nula, Hay raiz unitaria\n",
    "COEF[2,i]<-summary(df)@testreg$coefficients[11] \n",
    "#Hipótesis nula, Hay raiz unitaria sin tendencia\n",
    "COEF[3,i]<-summary(df)@testreg$coefficients[12] \n",
    "#Hipótesis nula, Hay raiz unitaria sin tendencia y sin deriva\n",
    "      \n",
    "#Prueba de rachas\n",
    "#si p-valor es menor a 0.05, no se rechaza \n",
    "#la hipótesis nula de aleatoriedad.\n",
    "xr<-DATA[2:length(DATA[,i+1]),i+1]/DATA[1:(length(DATA[,i+1])-1),i+1]\n",
    "a<- randtests::runs.test(xr)\n",
    "    \n",
    "COEF[4,i]<-a$p.value\n",
    "#Autocorrelaciones\n",
    "#si el pvalor es menor a 0.05, no se rechaza la hipótesis nula\n",
    "#(existe Autocorrelación)\n",
    "x1<-1:length(DATA[,1])\n",
    "aut<-dwtest(DATA[,i+1] ~ x1) \n",
    "COEF[5,i]<-aut$p.value\n",
    "  \n",
    "\n",
    "#Coeficiente de Hurst\n",
    "    \n",
    "#Se transforman los datos para determinar su rendimiento\n",
    "xr<-DATA[2:length(DATA[,i+1]),i+1]/DATA[1:(length(DATA[,i+1])-1),i+1]\n",
    "#Se aplica la función para estimar el coeficiente de Hurst \n",
    "#y se almacena en la sexta posición\n",
    "COEF[6,i]<-hurst(xr)\n",
    "  \n",
    "  \n",
    "}\n",
    "#Se cambia el formato de los valores\n",
    "COEF<-format(COEF, scientific=FALSE)\n",
    "#Se guardan los valores d emanera local\n",
    "write.csv(COEF, file=\"COEFICIENTES_FINAL.csv\")  \n",
    "\n",
    "#Se transforma el formato de los valores para poder hacer cálculos\n",
    "COEF<-data.matrix(COEF, rownames.force = NA)\n",
    "#Para mejorar la visualziación, se truncan los valores\n",
    "COEF<-round(COEF,3)\n",
    "\n",
    "#Con el fin de presentar cada prueba por separado, se transforma\n",
    "#y transpone la matriz de coeficientes\n",
    "n<-colnames(DATA[,-1])\n",
    "\n",
    "DATA2 <- as.data.frame(t(COEF[,]))\n",
    "names(DATA2)[1]<-paste(\"Raiz \\n Unitaria (R.U.)\")\n",
    "names(DATA2)[2]<-paste(\"R.U. \\n sin tendencia\")\n",
    "names(DATA2)[3]<-paste(\"R.U.\\n sin tendencia \\ny sin deriva\")\n",
    "names(DATA2)[4]<-paste(\"Prueba \\n de rachas\")\n",
    "names(DATA2)[5]<-paste(\"Auto \\n correlaciones\")\n",
    "names(DATA2)[6]<-paste(\"Coeficiente \\n de Hurst\")\n",
    "DATA2$NOMBRE<-n\n",
    "row.names(DATA2) <- n\n",
    "DATA2"
   ]
  },
  {
   "cell_type": "markdown",
   "metadata": {},
   "source": [
    "### 2.2.1 Prueba de raíz unitaria"
   ]
  },
  {
   "cell_type": "code",
   "execution_count": 29,
   "metadata": {},
   "outputs": [
    {
     "name": "stdout",
     "output_type": "stream",
     "text": [
      "[1] \"Estos son los productos que \\npresentan un comportamiento de raiz unitaria\"\n",
      "[1] \"Total de productos:\"\n"
     ]
    },
    {
     "data": {
      "text/html": [
       "19"
      ],
      "text/latex": [
       "19"
      ],
      "text/markdown": [
       "19"
      ],
      "text/plain": [
       "[1] 19"
      ]
     },
     "metadata": {},
     "output_type": "display_data"
    },
    {
     "name": "stdout",
     "output_type": "stream",
     "text": [
      "[1] \"Nombre de los productos:\"\n"
     ]
    },
    {
     "data": {
      "text/html": [
       "<ol class=list-inline>\n",
       "\t<li>'Ahuyama'</li>\n",
       "\t<li>'Arverja'</li>\n",
       "\t<li>'Cebolla.junca'</li>\n",
       "\t<li>'Cilantro'</li>\n",
       "\t<li>'Cebada'</li>\n",
       "\t<li>'Maiz'</li>\n",
       "\t<li>'Frijol'</li>\n",
       "\t<li>'Habichuela'</li>\n",
       "\t<li>'Lechuga'</li>\n",
       "\t<li>'Perejil'</li>\n",
       "\t<li>'Pimenton'</li>\n",
       "\t<li>'Tomate'</li>\n",
       "\t<li>'Banano'</li>\n",
       "\t<li>'Lulo'</li>\n",
       "\t<li>'Papaya'</li>\n",
       "\t<li>'Pinna'</li>\n",
       "\t<li>'Papa'</li>\n",
       "\t<li>'Plátano'</li>\n",
       "\t<li>'Yuca'</li>\n",
       "</ol>\n"
      ],
      "text/latex": [
       "\\begin{enumerate*}\n",
       "\\item 'Ahuyama'\n",
       "\\item 'Arverja'\n",
       "\\item 'Cebolla.junca'\n",
       "\\item 'Cilantro'\n",
       "\\item 'Cebada'\n",
       "\\item 'Maiz'\n",
       "\\item 'Frijol'\n",
       "\\item 'Habichuela'\n",
       "\\item 'Lechuga'\n",
       "\\item 'Perejil'\n",
       "\\item 'Pimenton'\n",
       "\\item 'Tomate'\n",
       "\\item 'Banano'\n",
       "\\item 'Lulo'\n",
       "\\item 'Papaya'\n",
       "\\item 'Pinna'\n",
       "\\item 'Papa'\n",
       "\\item 'Plátano'\n",
       "\\item 'Yuca'\n",
       "\\end{enumerate*}\n"
      ],
      "text/markdown": [
       "1. 'Ahuyama'\n",
       "2. 'Arverja'\n",
       "3. 'Cebolla.junca'\n",
       "4. 'Cilantro'\n",
       "5. 'Cebada'\n",
       "6. 'Maiz'\n",
       "7. 'Frijol'\n",
       "8. 'Habichuela'\n",
       "9. 'Lechuga'\n",
       "10. 'Perejil'\n",
       "11. 'Pimenton'\n",
       "12. 'Tomate'\n",
       "13. 'Banano'\n",
       "14. 'Lulo'\n",
       "15. 'Papaya'\n",
       "16. 'Pinna'\n",
       "17. 'Papa'\n",
       "18. 'Plátano'\n",
       "19. 'Yuca'\n",
       "\n",
       "\n"
      ],
      "text/plain": [
       " [1] \"Ahuyama\"       \"Arverja\"       \"Cebolla.junca\" \"Cilantro\"     \n",
       " [5] \"Cebada\"        \"Maiz\"          \"Frijol\"        \"Habichuela\"   \n",
       " [9] \"Lechuga\"       \"Perejil\"       \"Pimenton\"      \"Tomate\"       \n",
       "[13] \"Banano\"        \"Lulo\"          \"Papaya\"        \"Pinna\"        \n",
       "[17] \"Papa\"          \"Plátano\"       \"Yuca\"         "
      ]
     },
     "metadata": {},
     "output_type": "display_data"
    },
    {
     "name": "stdout",
     "output_type": "stream",
     "text": [
      "[1] \"Estos son los productos que presentan \\nun comportamiento de raiz unitaria sin tendencia\"\n",
      "[1] \"Total de productos:\"\n"
     ]
    },
    {
     "data": {
      "text/html": [
       "21"
      ],
      "text/latex": [
       "21"
      ],
      "text/markdown": [
       "21"
      ],
      "text/plain": [
       "[1] 21"
      ]
     },
     "metadata": {},
     "output_type": "display_data"
    },
    {
     "name": "stdout",
     "output_type": "stream",
     "text": [
      "[1] \"Nombre de los productos:\"\n"
     ]
    },
    {
     "data": {
      "text/html": [
       "<ol class=list-inline>\n",
       "\t<li>'Ahuyama'</li>\n",
       "\t<li>'Arverja'</li>\n",
       "\t<li>'Cebolla.Cabezona'</li>\n",
       "\t<li>'Cebolla.junca'</li>\n",
       "\t<li>'Cilantro'</li>\n",
       "\t<li>'Cebada'</li>\n",
       "\t<li>'Maiz'</li>\n",
       "\t<li>'Frijol'</li>\n",
       "\t<li>'Habichuela'</li>\n",
       "\t<li>'Lechuga'</li>\n",
       "\t<li>'Perejil'</li>\n",
       "\t<li>'Pimenton'</li>\n",
       "\t<li>'Tomate'</li>\n",
       "\t<li>'Banano'</li>\n",
       "\t<li>'Lulo'</li>\n",
       "\t<li>'Papaya'</li>\n",
       "\t<li>'Pinna'</li>\n",
       "\t<li>'Arracacha'</li>\n",
       "\t<li>'Papa'</li>\n",
       "\t<li>'Plátano'</li>\n",
       "\t<li>'Yuca'</li>\n",
       "</ol>\n"
      ],
      "text/latex": [
       "\\begin{enumerate*}\n",
       "\\item 'Ahuyama'\n",
       "\\item 'Arverja'\n",
       "\\item 'Cebolla.Cabezona'\n",
       "\\item 'Cebolla.junca'\n",
       "\\item 'Cilantro'\n",
       "\\item 'Cebada'\n",
       "\\item 'Maiz'\n",
       "\\item 'Frijol'\n",
       "\\item 'Habichuela'\n",
       "\\item 'Lechuga'\n",
       "\\item 'Perejil'\n",
       "\\item 'Pimenton'\n",
       "\\item 'Tomate'\n",
       "\\item 'Banano'\n",
       "\\item 'Lulo'\n",
       "\\item 'Papaya'\n",
       "\\item 'Pinna'\n",
       "\\item 'Arracacha'\n",
       "\\item 'Papa'\n",
       "\\item 'Plátano'\n",
       "\\item 'Yuca'\n",
       "\\end{enumerate*}\n"
      ],
      "text/markdown": [
       "1. 'Ahuyama'\n",
       "2. 'Arverja'\n",
       "3. 'Cebolla.Cabezona'\n",
       "4. 'Cebolla.junca'\n",
       "5. 'Cilantro'\n",
       "6. 'Cebada'\n",
       "7. 'Maiz'\n",
       "8. 'Frijol'\n",
       "9. 'Habichuela'\n",
       "10. 'Lechuga'\n",
       "11. 'Perejil'\n",
       "12. 'Pimenton'\n",
       "13. 'Tomate'\n",
       "14. 'Banano'\n",
       "15. 'Lulo'\n",
       "16. 'Papaya'\n",
       "17. 'Pinna'\n",
       "18. 'Arracacha'\n",
       "19. 'Papa'\n",
       "20. 'Plátano'\n",
       "21. 'Yuca'\n",
       "\n",
       "\n"
      ],
      "text/plain": [
       " [1] \"Ahuyama\"          \"Arverja\"          \"Cebolla.Cabezona\" \"Cebolla.junca\"   \n",
       " [5] \"Cilantro\"         \"Cebada\"           \"Maiz\"             \"Frijol\"          \n",
       " [9] \"Habichuela\"       \"Lechuga\"          \"Perejil\"          \"Pimenton\"        \n",
       "[13] \"Tomate\"           \"Banano\"           \"Lulo\"             \"Papaya\"          \n",
       "[17] \"Pinna\"            \"Arracacha\"        \"Papa\"             \"Plátano\"         \n",
       "[21] \"Yuca\"            "
      ]
     },
     "metadata": {},
     "output_type": "display_data"
    },
    {
     "name": "stdout",
     "output_type": "stream",
     "text": [
      "[1] \"Estos son los productos que presentan \\nun comportamiento de raiz unitaria sin tendencia\\ny sin deriva\"\n",
      "[1] \"Total de productos:\"\n"
     ]
    },
    {
     "data": {
      "text/html": [
       "4"
      ],
      "text/latex": [
       "4"
      ],
      "text/markdown": [
       "4"
      ],
      "text/plain": [
       "[1] 4"
      ]
     },
     "metadata": {},
     "output_type": "display_data"
    },
    {
     "name": "stdout",
     "output_type": "stream",
     "text": [
      "[1] \"Nombre de los productos:\"\n"
     ]
    },
    {
     "data": {
      "text/html": [
       "<ol class=list-inline>\n",
       "\t<li>'Cebolla.junca'</li>\n",
       "\t<li>'Cebada'</li>\n",
       "\t<li>'Maiz'</li>\n",
       "\t<li>'Banano'</li>\n",
       "</ol>\n"
      ],
      "text/latex": [
       "\\begin{enumerate*}\n",
       "\\item 'Cebolla.junca'\n",
       "\\item 'Cebada'\n",
       "\\item 'Maiz'\n",
       "\\item 'Banano'\n",
       "\\end{enumerate*}\n"
      ],
      "text/markdown": [
       "1. 'Cebolla.junca'\n",
       "2. 'Cebada'\n",
       "3. 'Maiz'\n",
       "4. 'Banano'\n",
       "\n",
       "\n"
      ],
      "text/plain": [
       "[1] \"Cebolla.junca\" \"Cebada\"        \"Maiz\"          \"Banano\"       "
      ]
     },
     "metadata": {},
     "output_type": "display_data"
    }
   ],
   "source": [
    "print(\"Estos son los productos que \n",
    "presentan un comportamiento de raiz unitaria\")\n",
    "print(\"Total de productos:\")\n",
    "length(DATA2[which(DATA2[,1]<=0.05),7])\n",
    "print(\"Nombre de los productos:\")\n",
    "DATA2[which(DATA2[,1]<=0.05),7]\n",
    "print(\"Estos son los productos que presentan \n",
    "un comportamiento de raiz unitaria sin tendencia\")\n",
    "print(\"Total de productos:\")\n",
    "length(DATA2[which(DATA2[,2]<=0.05),7])\n",
    "print(\"Nombre de los productos:\")\n",
    "DATA2[which(DATA2[,2]<=0.05),7]\n",
    "print(\"Estos son los productos que presentan \n",
    "un comportamiento de raiz unitaria sin tendencia\n",
    "y sin deriva\")\n",
    "print(\"Total de productos:\")\n",
    "length(DATA2[which(DATA2[,3]<=0.05),7])\n",
    "print(\"Nombre de los productos:\")\n",
    "DATA2[which(DATA2[,3]<=0.05),7]"
   ]
  },
  {
   "cell_type": "markdown",
   "metadata": {},
   "source": [
    "### 2.2.2 Prueba de rachas"
   ]
  },
  {
   "cell_type": "code",
   "execution_count": 30,
   "metadata": {},
   "outputs": [
    {
     "name": "stdout",
     "output_type": "stream",
     "text": [
      "[1] \"Estos son los productos que presentan\\nun comportamiento aleatorio\"\n",
      "[1] \"Total de productos:\" \"8\"                  \n",
      "[1] \"Nombre de los productos:\"\n"
     ]
    },
    {
     "data": {
      "text/html": [
       "<ol class=list-inline>\n",
       "\t<li>'Cebolla.Cabezona'</li>\n",
       "\t<li>'Cebolla.junca'</li>\n",
       "\t<li>'Cebada'</li>\n",
       "\t<li>'Maiz'</li>\n",
       "\t<li>'Papaya'</li>\n",
       "\t<li>'Arracacha'</li>\n",
       "\t<li>'Plátano'</li>\n",
       "\t<li>'Yuca'</li>\n",
       "</ol>\n"
      ],
      "text/latex": [
       "\\begin{enumerate*}\n",
       "\\item 'Cebolla.Cabezona'\n",
       "\\item 'Cebolla.junca'\n",
       "\\item 'Cebada'\n",
       "\\item 'Maiz'\n",
       "\\item 'Papaya'\n",
       "\\item 'Arracacha'\n",
       "\\item 'Plátano'\n",
       "\\item 'Yuca'\n",
       "\\end{enumerate*}\n"
      ],
      "text/markdown": [
       "1. 'Cebolla.Cabezona'\n",
       "2. 'Cebolla.junca'\n",
       "3. 'Cebada'\n",
       "4. 'Maiz'\n",
       "5. 'Papaya'\n",
       "6. 'Arracacha'\n",
       "7. 'Plátano'\n",
       "8. 'Yuca'\n",
       "\n",
       "\n"
      ],
      "text/plain": [
       "[1] \"Cebolla.Cabezona\" \"Cebolla.junca\"    \"Cebada\"           \"Maiz\"            \n",
       "[5] \"Papaya\"           \"Arracacha\"        \"Plátano\"          \"Yuca\"            "
      ]
     },
     "metadata": {},
     "output_type": "display_data"
    }
   ],
   "source": [
    "print(\"Estos son los productos que presentan\n",
    "un comportamiento aleatorio\")\n",
    "print(c(\"Total de productos:\",+\n",
    "length(DATA2[which(DATA2[,4]<=0.05),7])))\n",
    "print(\"Nombre de los productos:\")\n",
    "DATA2[which(DATA2[,4]<=0.05),7]"
   ]
  },
  {
   "cell_type": "markdown",
   "metadata": {},
   "source": [
    "### 2.2.3 Análisis de autocorrelaciones"
   ]
  },
  {
   "cell_type": "code",
   "execution_count": 31,
   "metadata": {},
   "outputs": [
    {
     "name": "stdout",
     "output_type": "stream",
     "text": [
      "[1] \"Estos son los productos que \\npresentan una autocorrelación\"\n",
      "[1] \"Total de productos:\" \"21\"                 \n",
      "[1] \"Nombre de los productos:\"\n"
     ]
    },
    {
     "data": {
      "text/html": [
       "<ol class=list-inline>\n",
       "\t<li>'Ahuyama'</li>\n",
       "\t<li>'Arverja'</li>\n",
       "\t<li>'Cebolla.Cabezona'</li>\n",
       "\t<li>'Cebolla.junca'</li>\n",
       "\t<li>'Cilantro'</li>\n",
       "\t<li>'Cebada'</li>\n",
       "\t<li>'Maiz'</li>\n",
       "\t<li>'Frijol'</li>\n",
       "\t<li>'Habichuela'</li>\n",
       "\t<li>'Lechuga'</li>\n",
       "\t<li>'Perejil'</li>\n",
       "\t<li>'Pimenton'</li>\n",
       "\t<li>'Tomate'</li>\n",
       "\t<li>'Banano'</li>\n",
       "\t<li>'Lulo'</li>\n",
       "\t<li>'Papaya'</li>\n",
       "\t<li>'Pinna'</li>\n",
       "\t<li>'Arracacha'</li>\n",
       "\t<li>'Papa'</li>\n",
       "\t<li>'Plátano'</li>\n",
       "\t<li>'Yuca'</li>\n",
       "</ol>\n"
      ],
      "text/latex": [
       "\\begin{enumerate*}\n",
       "\\item 'Ahuyama'\n",
       "\\item 'Arverja'\n",
       "\\item 'Cebolla.Cabezona'\n",
       "\\item 'Cebolla.junca'\n",
       "\\item 'Cilantro'\n",
       "\\item 'Cebada'\n",
       "\\item 'Maiz'\n",
       "\\item 'Frijol'\n",
       "\\item 'Habichuela'\n",
       "\\item 'Lechuga'\n",
       "\\item 'Perejil'\n",
       "\\item 'Pimenton'\n",
       "\\item 'Tomate'\n",
       "\\item 'Banano'\n",
       "\\item 'Lulo'\n",
       "\\item 'Papaya'\n",
       "\\item 'Pinna'\n",
       "\\item 'Arracacha'\n",
       "\\item 'Papa'\n",
       "\\item 'Plátano'\n",
       "\\item 'Yuca'\n",
       "\\end{enumerate*}\n"
      ],
      "text/markdown": [
       "1. 'Ahuyama'\n",
       "2. 'Arverja'\n",
       "3. 'Cebolla.Cabezona'\n",
       "4. 'Cebolla.junca'\n",
       "5. 'Cilantro'\n",
       "6. 'Cebada'\n",
       "7. 'Maiz'\n",
       "8. 'Frijol'\n",
       "9. 'Habichuela'\n",
       "10. 'Lechuga'\n",
       "11. 'Perejil'\n",
       "12. 'Pimenton'\n",
       "13. 'Tomate'\n",
       "14. 'Banano'\n",
       "15. 'Lulo'\n",
       "16. 'Papaya'\n",
       "17. 'Pinna'\n",
       "18. 'Arracacha'\n",
       "19. 'Papa'\n",
       "20. 'Plátano'\n",
       "21. 'Yuca'\n",
       "\n",
       "\n"
      ],
      "text/plain": [
       " [1] \"Ahuyama\"          \"Arverja\"          \"Cebolla.Cabezona\" \"Cebolla.junca\"   \n",
       " [5] \"Cilantro\"         \"Cebada\"           \"Maiz\"             \"Frijol\"          \n",
       " [9] \"Habichuela\"       \"Lechuga\"          \"Perejil\"          \"Pimenton\"        \n",
       "[13] \"Tomate\"           \"Banano\"           \"Lulo\"             \"Papaya\"          \n",
       "[17] \"Pinna\"            \"Arracacha\"        \"Papa\"             \"Plátano\"         \n",
       "[21] \"Yuca\"            "
      ]
     },
     "metadata": {},
     "output_type": "display_data"
    }
   ],
   "source": [
    "print(\"Estos son los productos que \n",
    "presentan una autocorrelación\")\n",
    "print(c(\"Total de productos:\",+\n",
    "length(DATA2[which(DATA2[,5]<=0.05),7])))\n",
    "print(\"Nombre de los productos:\")\n",
    "DATA2[which(DATA2[,5]<=0.05),7]"
   ]
  },
  {
   "cell_type": "markdown",
   "metadata": {},
   "source": [
    "### 2.2.4 Estimación del coeficiente de Hurst"
   ]
  },
  {
   "cell_type": "code",
   "execution_count": 32,
   "metadata": {},
   "outputs": [
    {
     "name": "stdout",
     "output_type": "stream",
     "text": [
      "[1] \"Estos son los productos que presentan\\nun comportamiento de ruido blanco (H aproximadamente 0.5)\"\n",
      "[1] \"Total de productos:\"\n"
     ]
    },
    {
     "data": {
      "text/html": [
       "2"
      ],
      "text/latex": [
       "2"
      ],
      "text/markdown": [
       "2"
      ],
      "text/plain": [
       "[1] 2"
      ]
     },
     "metadata": {},
     "output_type": "display_data"
    },
    {
     "name": "stdout",
     "output_type": "stream",
     "text": [
      "[1] \"Nombre de los productos:\"\n"
     ]
    },
    {
     "data": {
      "text/html": [
       "<ol class=list-inline>\n",
       "\t<li>'Arracacha'</li>\n",
       "\t<li>'Yuca'</li>\n",
       "</ol>\n"
      ],
      "text/latex": [
       "\\begin{enumerate*}\n",
       "\\item 'Arracacha'\n",
       "\\item 'Yuca'\n",
       "\\end{enumerate*}\n"
      ],
      "text/markdown": [
       "1. 'Arracacha'\n",
       "2. 'Yuca'\n",
       "\n",
       "\n"
      ],
      "text/plain": [
       "[1] \"Arracacha\" \"Yuca\"     "
      ]
     },
     "metadata": {},
     "output_type": "display_data"
    }
   ],
   "source": [
    "print(\"Estos son los productos que presentan\n",
    "un comportamiento de ruido blanco (H aproximadamente 0.5)\")\n",
    "print(\"Total de productos:\")\n",
    "length(DATA2[which(DATA2[,6]>=0.4804 | DATA2[,6]>=0.5245),7])\n",
    "print(\"Nombre de los productos:\")\n",
    "DATA2[which(DATA2[,6]>=0.4804 | DATA2[,6]>=0.5245),7]"
   ]
  },
  {
   "cell_type": "markdown",
   "metadata": {},
   "source": [
    "# <a id='seccion 3'></a> 3. Construcción general del modelo Arima"
   ]
  },
  {
   "cell_type": "markdown",
   "metadata": {},
   "source": [
    "El *Modelo ARIMA*  es una combinación de de diversos modelos, entre los que se encuentra el *Modelo AR* (modelo Auto Regresivo), el cual  explica que el valor de una variable en el instante $t$, está en función de los valores históricos; el *Modelo I* (integrado) indica el numero de diferencias ($d$) o integraciones que debe poseer la serie para ser estacionaria; y el *Modelo MA* (Modelos de Media Móvil) indica que el valor de la dicha variable está en función de los errores de períodos anteriores respecto a un valor esperado. Como el ARIMA conjuga los tres modelos, es necesario indicar en  orden el tipo de modelo que presenta, donde los valores $p$ indica el número de rezagos de la variable $Y_t$ hasta $Y_p$ (donde $p<t$ ) y una cantidad $q$ de rezagos entre el error de la variable en $Y_t$ y su respectivo error en el instante $t-q$. De esa manera se representa un ARIMA de orden $p$, $d$, $q$ o $ARIMA(p, d, q)$. De manera general, es posible expresar el modelo ARIMA mediante la siguiente ecuación:\n",
    "\n",
    "\\begin{equation*}\n",
    "∆^d y_t= μ+ φ_1 ∆^d y_{(t-1)} +…+ φ_p ∆^d y_{(t-p)}+θ_1u_{(t-1)}+…+ θ_q u_{(t-q)}+u_t\n",
    "\\end{equation*}\n",
    "\n",
    "Donde $μ$ es el intercepto,  $φ_1 ∆^d y_{(t-1)} +…+ φ_p ∆^d y_{(t-p)}$ es el componente autoregresivo del modelo y $θ_1u_{(t-1)}+…+ θ_q u_{(t-q)}+u_t$ indica la media movil. Ahora bien, teniendo en cuenta los resultados obtenidos en la sección de validación de supuestos ([2. Verificación de los supuestos de _Estacionariedad_](#seccion 2)), es necesario integrar las diferentes series con el fin de que éstas presenten un comportamiento de estacionariedad. Para ello los datos son transformados mediante una suavización logarítmica, buscando así evitar distorción derivada de la escala de los precios, posterior a ello, aplicadas funciones de *R* para escoger el mejor modelo ARIMA que se ajuste a cada dato. Los resultados se presentan a continuación."
   ]
  },
  {
   "cell_type": "code",
   "execution_count": 55,
   "metadata": {},
   "outputs": [
    {
     "name": "stdout",
     "output_type": "stream",
     "text": [
      "[1] \"Ejemplo para el producto 2\"\n",
      "$mean\n",
      "Time Series:\n",
      "Start = 262 \n",
      "End = 357 \n",
      "Frequency = 1 \n",
      " [1] 3819 3819 3819 3819 3819 3819 3819 3819 3819 3819 3819 3819 3819 3819 3819\n",
      "[16] 3819 3819 3819 3819 3819 3819 3819 3819 3819 3819 3819 3819 3819 3819 3819\n",
      "[31] 3819 3819 3819 3819 3819 3819 3819 3819 3819 3819 3819 3819 3819 3819 3819\n",
      "[46] 3819 3819 3819 3819 3819 3819 3819 3819 3819 3819 3819 3819 3819 3819 3819\n",
      "[61] 3819 3819 3819 3819 3819 3819 3819 3819 3819 3819 3819 3819 3819 3819 3819\n",
      "[76] 3819 3819 3819 3819 3819 3819 3819 3819 3819 3819 3819 3819 3819 3819 3819\n",
      "[91] 3819 3819 3819 3819 3819 3819\n",
      "\n",
      "$lower\n",
      "Time Series:\n",
      "Start = 262 \n",
      "End = 357 \n",
      "Frequency = 1 \n",
      "            80%         95%\n",
      "262  3234.47770  2925.05029\n",
      "263  2992.36064  2554.76420\n",
      "264  2806.57769  2270.63369\n",
      "265  2649.95541  2031.10058\n",
      "266  2511.96841  1820.06768\n",
      "267  2387.21863  1629.27936\n",
      "268  2272.49937  1453.83139\n",
      "269  2165.72128  1290.52840\n",
      "270  2065.43311  1137.15088\n",
      "271  1970.57820   992.08281\n",
      "272  1880.35886   854.10424\n",
      "273  1794.15537   722.26737\n",
      "274  1711.47489   595.81849\n",
      "275  1631.91783   474.14647\n",
      "276  1555.15488   356.74767\n",
      "277  1480.91082   243.20117\n",
      "278  1408.95283   133.15093\n",
      "279  1339.08193    26.29260\n",
      "280  1271.12638   -77.63644\n",
      "281  1204.93682  -178.86463\n",
      "282  1140.38233  -277.59220\n",
      "283  1077.34741  -373.99580\n",
      "284  1015.72955  -468.23219\n",
      "285   955.43726  -560.44128\n",
      "286   896.38852  -650.74854\n",
      "287   838.50941  -739.26701\n",
      "288   781.73306  -826.09894\n",
      "289   725.99874  -911.33722\n",
      "290   671.25110  -995.06651\n",
      "291   617.43953 -1077.36420\n",
      "292   564.51759 -1158.30133\n",
      "293   512.44257 -1237.94321\n",
      "294   461.17505 -1316.35010\n",
      "295   410.67861 -1393.57774\n",
      "296   360.91946 -1469.67780\n",
      "297   311.86623 -1544.69825\n",
      "298   263.48968 -1618.68379\n",
      "299   215.76257 -1691.67610\n",
      "300   168.65943 -1763.71414\n",
      "301   122.15640 -1834.83438\n",
      "302    76.23112 -1905.07104\n",
      "303    30.86257 -1974.45626\n",
      "304   -13.96902 -2043.02025\n",
      "305   -58.28227 -2110.79153\n",
      "306  -102.09476 -2177.79695\n",
      "307  -145.42309 -2244.06191\n",
      "308  -188.28297 -2309.61043\n",
      "309  -230.68926 -2374.46526\n",
      "310  -272.65607 -2438.64796\n",
      "311  -314.19679 -2502.17901\n",
      "312  -355.32414 -2565.07786\n",
      "313  -396.05022 -2627.36302\n",
      "314  -436.38655 -2689.05211\n",
      "315  -476.34410 -2750.16192\n",
      "316  -515.93337 -2810.70847\n",
      "317  -555.16433 -2870.70706\n",
      "318  -594.04656 -2930.17229\n",
      "319  -632.58918 -2989.11815\n",
      "320  -670.80095 -3047.55800\n",
      "321  -708.69023 -3105.50466\n",
      "322  -746.26507 -3162.97042\n",
      "323  -783.53316 -3219.96704\n",
      "324  -820.50189 -3276.50584\n",
      "325  -857.17837 -3332.59767\n",
      "326  -893.56941 -3388.25296\n",
      "327  -929.68158 -3443.48176\n",
      "328  -965.52119 -3498.29372\n",
      "329 -1001.09433 -3552.69814\n",
      "330 -1036.40685 -3606.70398\n",
      "331 -1071.46440 -3660.31987\n",
      "332 -1106.27241 -3713.55413\n",
      "333 -1140.83615 -3766.41481\n",
      "334 -1175.16068 -3818.90965\n",
      "335 -1209.25091 -3871.04616\n",
      "336 -1243.11157 -3922.83157\n",
      "337 -1276.74724 -3974.27288\n",
      "338 -1310.16233 -4025.37685\n",
      "339 -1343.36114 -4076.15005\n",
      "340 -1376.34781 -4126.59881\n",
      "341 -1409.12635 -4176.72926\n",
      "342 -1441.70066 -4226.54737\n",
      "343 -1474.07451 -4276.05890\n",
      "344 -1506.25155 -4325.26944\n",
      "345 -1538.23533 -4374.18441\n",
      "346 -1570.02929 -4422.80908\n",
      "347 -1601.63677 -4471.14855\n",
      "348 -1633.06102 -4519.20778\n",
      "349 -1664.30518 -4566.99160\n",
      "350 -1695.37231 -4614.50468\n",
      "351 -1726.26539 -4661.75157\n",
      "352 -1756.98732 -4708.73671\n",
      "353 -1787.54090 -4755.46438\n",
      "354 -1817.92888 -4801.93878\n",
      "355 -1848.15392 -4848.16399\n",
      "356 -1878.21861 -4894.14396\n",
      "357 -1908.12547 -4939.88256\n",
      "\n",
      "$upper\n",
      "Time Series:\n",
      "Start = 262 \n",
      "End = 357 \n",
      "Frequency = 1 \n",
      "         80%       95%\n",
      "262 4403.522  4712.950\n",
      "263 4645.639  5083.236\n",
      "264 4831.422  5367.366\n",
      "265 4988.045  5606.899\n",
      "266 5126.032  5817.932\n",
      "267 5250.781  6008.721\n",
      "268 5365.501  6184.169\n",
      "269 5472.279  6347.472\n",
      "270 5572.567  6500.849\n",
      "271 5667.422  6645.917\n",
      "272 5757.641  6783.896\n",
      "273 5843.845  6915.733\n",
      "274 5926.525  7042.182\n",
      "275 6006.082  7163.854\n",
      "276 6082.845  7281.252\n",
      "277 6157.089  7394.799\n",
      "278 6229.047  7504.849\n",
      "279 6298.918  7611.707\n",
      "280 6366.874  7715.636\n",
      "281 6433.063  7816.865\n",
      "282 6497.618  7915.592\n",
      "283 6560.653  8011.996\n",
      "284 6622.270  8106.232\n",
      "285 6682.563  8198.441\n",
      "286 6741.611  8288.749\n",
      "287 6799.491  8377.267\n",
      "288 6856.267  8464.099\n",
      "289 6912.001  8549.337\n",
      "290 6966.749  8633.067\n",
      "291 7020.560  8715.364\n",
      "292 7073.482  8796.301\n",
      "293 7125.557  8875.943\n",
      "294 7176.825  8954.350\n",
      "295 7227.321  9031.578\n",
      "296 7277.081  9107.678\n",
      "297 7326.134  9182.698\n",
      "298 7374.510  9256.684\n",
      "299 7422.237  9329.676\n",
      "300 7469.341  9401.714\n",
      "301 7515.844  9472.834\n",
      "302 7561.769  9543.071\n",
      "303 7607.137  9612.456\n",
      "304 7651.969  9681.020\n",
      "305 7696.282  9748.792\n",
      "306 7740.095  9815.797\n",
      "307 7783.423  9882.062\n",
      "308 7826.283  9947.610\n",
      "309 7868.689 10012.465\n",
      "310 7910.656 10076.648\n",
      "311 7952.197 10140.179\n",
      "312 7993.324 10203.078\n",
      "313 8034.050 10265.363\n",
      "314 8074.387 10327.052\n",
      "315 8114.344 10388.162\n",
      "316 8153.933 10448.708\n",
      "317 8193.164 10508.707\n",
      "318 8232.047 10568.172\n",
      "319 8270.589 10627.118\n",
      "320 8308.801 10685.558\n",
      "321 8346.690 10743.505\n",
      "322 8384.265 10800.970\n",
      "323 8421.533 10857.967\n",
      "324 8458.502 10914.506\n",
      "325 8495.178 10970.598\n",
      "326 8531.569 11026.253\n",
      "327 8567.682 11081.482\n",
      "328 8603.521 11136.294\n",
      "329 8639.094 11190.698\n",
      "330 8674.407 11244.704\n",
      "331 8709.464 11298.320\n",
      "332 8744.272 11351.554\n",
      "333 8778.836 11404.415\n",
      "334 8813.161 11456.910\n",
      "335 8847.251 11509.046\n",
      "336 8881.112 11560.832\n",
      "337 8914.747 11612.273\n",
      "338 8948.162 11663.377\n",
      "339 8981.361 11714.150\n",
      "340 9014.348 11764.599\n",
      "341 9047.126 11814.729\n",
      "342 9079.701 11864.547\n",
      "343 9112.075 11914.059\n",
      "344 9144.252 11963.269\n",
      "345 9176.235 12012.184\n",
      "346 9208.029 12060.809\n",
      "347 9239.637 12109.149\n",
      "348 9271.061 12157.208\n",
      "349 9302.305 12204.992\n",
      "350 9333.372 12252.505\n",
      "351 9364.265 12299.752\n",
      "352 9394.987 12346.737\n",
      "353 9425.541 12393.464\n",
      "354 9455.929 12439.939\n",
      "355 9486.154 12486.164\n",
      "356 9516.219 12532.144\n",
      "357 9546.125 12577.883\n",
      "\n"
     ]
    },
    {
     "data": {
      "image/png": "[encoded data removed]",
      "text/plain": [
       "Plot with title \"Forecasts from ARIMA(0,1,0)\""
      ]
     },
     "metadata": {},
     "output_type": "display_data"
    },
    {
     "data": {
      "image/png": "[encoded data removed]",
      "text/plain": [
       "Plot with title \"Series  residuals(f1)\""
      ]
     },
     "metadata": {},
     "output_type": "display_data"
    },
    {
     "data": {
      "image/png": "[encoded data removed]",
      "text/plain": [
       "Plot with title \"Series  residuals(f1)\""
      ]
     },
     "metadata": {},
     "output_type": "display_data"
    }
   ],
   "source": [
    "#Se suavizan logaritmicamente los datos\n",
    "DATA_LOG<-DATA\n",
    "DATA_LOG[,2:length(DATA)]<-log(DATA[,2:length(DATA)])\n",
    "#Se crea una función que calcule el mejor modelo \n",
    "#ARIMA para cada serie histórica\n",
    "\n",
    "#Inicio de la función\n",
    "ESTIMAR_ARIMA <- function(x, y, t, na.rm = TRUE, ...)\n",
    "#el parámetro x, es la función suavizada logarítmicamente\n",
    "#el parámetro y es la función original\n",
    "#el parámetro t, es la cantidad de periodos a pronosticar\n",
    "{\n",
    "nm <- names(x)\n",
    "for (i in seq_along(nm[2:length(x[1,])])) \n",
    "{\n",
    "#los valores p,d,q se almacenan en una variable \n",
    "orden<-arimaorder(auto.arima(x[,i+1]))\n",
    "#Se construye el modelo ARIMA, teniendo en cuenta el \n",
    "#orden de los valores p,d,q\n",
    "Ar<-arima(y[,i+1], order = orden, include.mean = TRUE)\n",
    "#se genera el pronóstico de los datos\n",
    "f1<- forecast(Ar, t)\n",
    "#se grafican los resultados\n",
    "print(plot(f1))\n",
    "# con las graficas de ACF y PACF se puede inducir que \n",
    "#no se requiere ningun otro modelo para el pronostico\n",
    "acf(residuals(f1))\n",
    "pacf(residuals(f1))          \n",
    "}\n",
    "}\n",
    "#Fin de la función\n",
    "\n",
    "#Se determina el mejor modelo ARIMA, para ello se \n",
    "#ejecuta la función y se pronostican 96 datos \n",
    "#(Horizonte de planeación)\n",
    "# Datos completos ESTIMAR_ARIMA(DATA_LOG,DATA,96)\n",
    "print(\"Ejemplo para el producto 2\")\n",
    "#debido a la configuración de la función, la\n",
    "#primera columna debe ser siempre la fecha\n",
    "ESTIMAR_ARIMA(as.data.frame(c(DATA_LOG[1],\n",
    "              DATA_LOG[3])),as.data.frame(c(DATA[1],DATA[3])),96)"
   ]
  },
  {
   "cell_type": "markdown",
   "metadata": {},
   "source": [
    "Teniendo en cuenta los resultados del modelo ARIMA, es posible corroborar mediante los gráficos de autocorrelaciones, que el modelo propuesto presenta un ajuste adecuado, además, para varios productos se encuentran cambios bruscos en los valores históricos, lo cual se alinea con la acumulación de volatilidad, por tanto, se propone el desarrollo de modelos tipo GARCH."
   ]
  },
  {
   "cell_type": "markdown",
   "metadata": {},
   "source": [
    "# <a id='seccion 4'></a> 4. Construcción del modelo Garch"
   ]
  },
  {
   "cell_type": "markdown",
   "metadata": {},
   "source": [
    "Una vez verificado mediante las gráficas de autocorrelación que el modelo obtenido mediante la aplicación del _ARIMA_ es el mejor ajustado y, teniendo en cuenta que a medida que avanza el pronóstico existe una tendencia a aumentar la variabilidad de la series pronósticada, en añadidura a que en algunas series existen lapsos en los que sus precios muestran amplias\n",
    "variaciones durante prolongados periodos y luego se dan intervalos de una calma relativa tranquilidad. Es posible teorizar que puede existir acumulación de valatilidad y, por tanto, que la variabilidad de la serie en algún rezago pueda incidir sobre la el valor en un instante $t$.\n",
    "\n",
    "Teniendo en cuenta las características anteriormente descritas, es posible que la variabilidad de los datos en un instante $t$ esté autocorrelacionada con la volatilidad en un instante anterior. Una manera de estimar la volatilidad, es teniendo en cuenta el cambio relativo que ha tenido cada serie. En el presente ejercicio, como los datos de los precios han sido suavizados logaritmicamente, al integrar (diferenciar) la serie, se obtiene una serie de cambios o perturbaciones denominada $X_t$, la cual presenta valores tanto positivos como negativos. Ahora bien, con el propósito de considerar la variabilidad sin importar el signo, es posible expresar la acumulación de volatilidad como:\n",
    "\n",
    "\\begin{equation*}\n",
    "{X_t}^2 =  β_0 + β_1{X_{t-1}}^2+β_2{X_{t-2}}^2+...+β_p{X_{t-p}}^2+u_t\n",
    "\\end{equation*}\n",
    "\n",
    "Lo cual indica que la volatilidad en cualquier instante $t$, es una combinación lineal de la volatilidad en instantes anteriores y se conoce como modelo _ARCH_ (Modelo condicional autorregresivo con heteroscedasticidad). Por otra parte, existe una variante denominada Modelo _GARCH_ o Modelo condicional autorregresivo generalizado con heteroscedasticidad; esta variante indica que es posible que la la varianza condicional de $u$ en el tiempo $t$ depende no sólo del término de error al cuadrado del periodo anterior (como sucede en ARCH(1)), sino también de su varianza condicional en el periodo anterior, como indica la siguiente función:\n",
    "\n",
    "\\begin{equation*}\n",
    "{α_t}^2 =  α_0 + α_1{u_{t-1}}^2+α_2{u_{t-2}}^2+...+α_q{u_{t-q}}^2\n",
    "\\end{equation*}\n",
    "\n",
    "Una relación interesante entre los modelos _ARCH_ y _GARCH_, es que el modelo puede generalizarse al modelo $GARCH(p,q)$ en\n",
    "el que existen $p$ términos rezagados del término de error al cuadrado y $q$ términos de las varianzas condicionales rezagadas, además, un modelo $GARCH(p,q)$ equivale a un modelo $ARCH(p + q)$.\n",
    "\n",
    "Teniendo en cuenta lo anterior, es posible formular un modelo de pronóstico que integre los modelos de predicción de la media (ya sean estos *AR*, *MA*, _ARMA_ O _ARIMA_) con un modelo de pronóstico de volatilidad. Para el modelo de pronóstico de la media, en la sección anterior ([3. Construcción general del modelo Arima](#seccion 3)) se encuentra que  que las series _ARIMA_ presentan un grado de integración $d=1$, por tanto, a partir de la función _auto.arima_ es posible obtener los parámetros de un modelo _ARMA_ para la serie de rentabilidades (o de precios con integración $I=1)$). Con el propósito de simplificar esta sección, se trabajará con la función *ugarchfit* para ajustar el mejor modelo $GARCH(1,1)$ (modelo _GARCH_ básico) que se ajuste al modelo $ARMA(p,q)$.  "
   ]
  },
  {
   "cell_type": "code",
   "execution_count": 69,
   "metadata": {},
   "outputs": [],
   "source": [
    "#Se crea la base de datos de rendimientos\n",
    "RENDIMIENTOS<-DATA_LOG[,2:length(DATA_LOG[1,])]\n",
    "RENDIMIENTOS<-RENDIMIENTOS[2:length(DATA_LOG[,1]),]-\n",
    "RENDIMIENTOS[1:length(DATA_LOG[,1])-1,]\n",
    "RENDIMIENTOS$Fecha<-DATA$Fecha[2:length(DATA_LOG[,1])]\n",
    "#RENDIMIENTOS\n",
    "\n",
    "#Función para estimar el mejor modelo ARMA\n",
    "#Inicio de la función\n",
    "ESTIMAR_ARMA <- function(x, P, Q, na.rm = TRUE, ...)\n",
    "#x es el parámetro de la base de datos de rendimientos, \n",
    "#en este caso, las fechas están al final\n",
    "#P es el número de rezagos máximos de p\n",
    "#Q es el número de rezagos máximos de q\n",
    "{\n",
    "P<-P\n",
    "Q<-Q\n",
    "x<-as.data.frame(x)\n",
    "nm <- names(x)\n",
    "ORDEN<-matrix(c((1:((length(x[1,])-1)*3))*0),nrow=(length(x[1,])-1),ncol=3) \n",
    "AIC<-0*(1:(length(x[1,])-1))\n",
    "for (i in seq_along(nm[1:(length(x[1,])-1)])) \n",
    "{\n",
    "final.aic <- Inf\n",
    "final.order <- c(0,0,0)\n",
    "for (p in 0: P) for (q in 0: Q) \n",
    "{\n",
    "if ( p == 0 && q == 0) \n",
    "{\n",
    "next\n",
    "}\n",
    "arimaFit = tryCatch( arima(x[,i], order=c(p, 0, q)),\n",
    "                    error=function( err ) \n",
    "                        FALSE,warning=function( err ) FALSE )\n",
    "if( !is.logical( arimaFit ) ) \n",
    "{\n",
    "current.aic <- AIC(arimaFit)\n",
    "if (current.aic < final.aic) \n",
    "{\n",
    "final.aic <- current.aic\n",
    "AIC[i]<-final.aic\n",
    "final.order <- c(p, 0, q)\n",
    "ORDEN[i,]<-final.order\n",
    "final.arima <- arima(x[,i], order=final.order)\n",
    "}\n",
    "}\n",
    "else\n",
    "{\n",
    "next\n",
    "}\n",
    "}  \n",
    "print(paste0(\"El Modelo ARMA par el producto \", \n",
    "             names(RENDIMIENTOS[i]),\" es:\"))\n",
    "print(ORDEN[i,])\n",
    "}\n",
    "ORDEN<<-ORDEN\n",
    "}\n",
    "#Fin de la función\n",
    "             \n",
    "#Se crea una función para estimar el mejor modelo GARCH, \n",
    "#a partir de de un modelo GARCH (1,1) y el modelo ARMA \n",
    "#encontrado en la función anterior\n",
    "\n",
    "#Inicio de la función\n",
    "GARCH_PARAMETROS <- function(y, t, na.rm = TRUE, ...)\n",
    "{\n",
    "#x es el parámetro de la base de datos de rendimientos, \n",
    "#en este caso, las fechas están al final\n",
    "#y es la matriz que indica los valores p y q del modelo ARMA\n",
    "#se transforman los datos en dataframe\n",
    "x<-as.data.frame(y)\n",
    "#se asigna la variable de p y q del modelo ARMA a una \n",
    "#variable interna    \n",
    "L<-length(x[,1])\n",
    "T<-t\n",
    "#cantidad de datos a pronosticar\n",
    "windowLength = 104 \n",
    "#tamaño del vector base\n",
    "foreLength = length(RENDIMIENTOS[,1])- windowLength\n",
    "#creación del vector de pronóstico\n",
    "forecasts <- vector(mode=\"character\", length=foreLength)\n",
    "nm <- names(x)\n",
    "ORDEN<-matrix(c((1:((length(x[1,])-1)*3))*0),\n",
    "              nrow=(length(x[1,])-1),ncol=3) \n",
    "AIC<-0*(1:(length(x[1,])-1))\n",
    "for (i in seq_along(nm[1:(length(x[1,])-1)])) \n",
    "{ \n",
    "#Se especifica la firma del modelo, comenzando \n",
    "#con un GARCH(1,1)\n",
    "spec = ugarchspec(variance.model=\n",
    "      list(garchOrder=c(1,1)),mean.model=\n",
    "      list(armaOrder=c(ORDEN[i,1], ORDEN[i,2]), \n",
    "      include.mean=FALSE),distribution.model=\"norm\")\n",
    "fit = tryCatch(ugarchfit(spec, x[,i], solver = 'hybrid'), \n",
    "               error=function(e) e, warning=function(w) w)\n",
    "print(paste0(\"El mejor modelo GARCH(1,1) para el producto: \", \n",
    "             names(RENDIMIENTOS[i]), \" es:\"))\n",
    "print(fit@fit$coef)\n",
    "#Generación de la gráfica (opcional)\n",
    "#spec <- getspec(fit)\n",
    "#setfixed(spec) <- as.list(coef(fit))\n",
    "#garchforecast1 <- ugarchforecast(spec, n.ahead=T, \n",
    "        #n.roll=(L-1)-T, data = x[,i], out.sample = (L-1))\n",
    "#plot(garchforecast1, which = 4)\n",
    "}  \n",
    "}\n",
    "#Fin de la función                \n",
    "                       \n",
    "#Ahora se crea una función para estimar los coeficientes \n",
    "#del ARIMA integrado, con el orden identificado en la \n",
    "#función ESTIMAR_ARMA\n",
    "#Inicio de la función                       \n",
    "COEFICIENTES_ARIMA <- function(x,na.rm = TRUE, ...)\n",
    "#el parámetro x, es la función suavizada logarítmicamente\n",
    "{\n",
    "nm <- names(x)\n",
    "for (i in seq_along(nm[2:length(x[1,])])) \n",
    "{\n",
    "#se calcula el mejor modelo que se ajuste a los datos, \n",
    "#los valores p,d,q se almacenan en una variable \n",
    "orden<-c(ORDEN[i,])\n",
    "#Se construye el modelo ARIMA, teniendo en cuenta el \n",
    "#orden de los valores p,d,q\n",
    "Ar<-arima(x[,i+1], order = orden, include.mean = TRUE)\n",
    "print(paste0(\"El mejor modelo ARIMA de orden: p=\",ORDEN[i,1],\n",
    "    \"d=\",ORDEN[i,2],\" q=\",ORDEN[i,3],\" para el producto: \", \n",
    "    names(RENDIMIENTOS[i]), \" es:\"))\n",
    "print(Ar$coef)          \n",
    "}\n",
    "}\n",
    "#Fin de la función"
   ]
  },
  {
   "cell_type": "code",
   "execution_count": 74,
   "metadata": {},
   "outputs": [
    {
     "name": "stdout",
     "output_type": "stream",
     "text": [
      "[1] \"El Modelo ARMA par el producto Ahuyama es:\"\n",
      "[1] 2 0 5\n"
     ]
    }
   ],
   "source": [
    "#Debido a la complejidad computacional, se estima el \n",
    "#Modelo con 5 rezagos p y 5 rezagos q\n",
    "#ESTIMAR_ARMA(RENDIMIENTOS,5,5)\n",
    "\n",
    "#Como ejemplo, se presentan los coeficientes para el \n",
    "#producto 7\n",
    "ESTIMAR_ARMA(as.data.frame(c(RENDIMIENTOS[1],RENDIMIENTOS[8])),5,5)"
   ]
  },
  {
   "cell_type": "code",
   "execution_count": 75,
   "metadata": {},
   "outputs": [
    {
     "name": "stdout",
     "output_type": "stream",
     "text": [
      "[1] \"El mejor modelo GARCH(1,1) para el producto: Ahuyama es:\"\n",
      "     omega     alpha1      beta1 \n",
      "0.00306547 0.16139703 0.32683106 \n"
     ]
    }
   ],
   "source": [
    "#Teniendo en cuenta los parámetros del modelo ARMA, \n",
    "#se busca el mejor modelo GARCH para un pronóstico de \n",
    "#96 unidades\n",
    "#(horizonte de planeación)\n",
    "#GARCH_PARAMETROS(RENDIMIENTOS,96)\n",
    "#Como ejemplo, se presentan los coeficientes para el \n",
    "#producto 7\n",
    "GARCH_PARAMETROS(as.data.frame(c(RENDIMIENTOS[1],RENDIMIENTOS[8])),96)\n"
   ]
  },
  {
   "cell_type": "code",
   "execution_count": 76,
   "metadata": {},
   "outputs": [
    {
     "name": "stdout",
     "output_type": "stream",
     "text": [
      "[1] \"El mejor modelo ARIMA de orden: p=2d=0 q=5 para el producto: Ahuyama es:\"\n",
      "        ar1         ar2         ma1         ma2         ma3         ma4 \n",
      " 1.62581333 -0.62847243 -0.99778335  0.21598141 -0.05508720  0.06114827 \n",
      "        ma5   intercept \n",
      "-0.12534813  7.61337061 \n"
     ]
    }
   ],
   "source": [
    "#para finalizar la construcción del modelo ARIMA-GARCH, \n",
    "#se extraen los coeficientes del modelo ARIMA:\n",
    "#COEFICIENTES_ARIMA(DATA_LOG)\n",
    "#Como ejemplo, se presentan los coeficientes para el \n",
    "#producto 7\n",
    "COEFICIENTES_ARIMA(as.data.frame(c(DATA_LOG[1],DATA_LOG[8])))"
   ]
  },
  {
   "cell_type": "markdown",
   "metadata": {},
   "source": [
    "# <a id='seccion 5'></a> 5. Ecuaciones de pronóstico#"
   ]
  },
  {
   "cell_type": "markdown",
   "metadata": {},
   "source": [
    "Una vez finalizado el modelo de pronóstico de la volatilidad, se integran los dos modelos, con los resultados del capítulo 3 (([Construcción general del modelo Arima](#seccion 3))) se modela el componente lineal de la serie y con los resultados del capítulo 4 ([Construcción del modelo Garch](#seccion 4)) se representa la volatilidad o componente no lineal de cada serie.\n",
    "\n",
    "A continuación se enlistan los productos bajo estudio y su respectiva ecuación de pronóstico basada en un Modelo _ARIMA-GARCH_.\n",
    "\n",
    "[5.01 Ahuyama](#seccionP1)\n",
    "\n",
    "[5.02 Arverja](#seccionP2)\n",
    "\n",
    "[5.03 Cebolla Cabezona](#seccionP3)\n",
    "\n",
    "[5.04 Cebolla junca](#seccionP4)\n",
    "\n",
    "[5.05 Cilantro](#seccionP5)\n",
    "\n",
    "[5.06 Cebada](#seccionP6)\n",
    "\n",
    "[5.07 Maiz](#seccionP7)\n",
    "\n",
    "[5.08 Frijol](#seccionP8)\n",
    "\n",
    "[5.09 Habichuela](#seccionP9)\n",
    "\n",
    "[5.10 Lechuga](#seccionP10)\n",
    "\n",
    "[5.11 Perejil](#seccionP11)\n",
    "\n",
    "[5.12 Pimenton](#seccionP12)\n",
    "\n",
    "[5.13 Tomate](#seccionP13)\n",
    "\n",
    "[5.14 Banano](#seccionP14)\n",
    "\n",
    "[5.15 Lulo](#seccionP15)\n",
    "\n",
    "[5.16 Papaya](#seccionP16) \n",
    "\n",
    "[5.17 Piña](#seccionP17) \n",
    "\n",
    "[5.18 Arracacha](#seccionP18) \n",
    "\n",
    "[5.19 Papa](#seccionP19) \n",
    "\n",
    "[5.20 Plátano](#seccionP20) \n",
    "\n",
    "[5.21 Yuca](#seccionP21) \n"
   ]
  },
  {
   "cell_type": "markdown",
   "metadata": {},
   "source": [
    "### <a id='seccionP1'></a>P1 Ahuyama"
   ]
  },
  {
   "cell_type": "markdown",
   "metadata": {},
   "source": [
    "\\begin{equation*}\n",
    "(Y_t –Y_{t-1})=6.513721477+1.882800148(Y_{t-1}–Y_{t-2})-0.899184751 (Y_{t-2}–Y_{t-3})-1.129620020u_{t-1}+0.265865333u_{t-2}-0.056514935u_{t-3}-0.002679094u_{t-4}+0.106337505u_{t-5}+ [ 0.00306547+0.32683106{X_{t-1}^2}+0.16139703{u_{t-1}^2}]\n",
    "\\end{equation*}\n",
    "\n",
    "([Volver al listado de ecuaciones](#seccion 5))"
   ]
  },
  {
   "cell_type": "markdown",
   "metadata": {},
   "source": [
    "### <a id='seccionP2'></a>P2 \tArverja"
   ]
  },
  {
   "cell_type": "markdown",
   "metadata": {},
   "source": [
    "\\begin{equation*}\n",
    "(Y_t –Y_{t-1})=intercepto+ar1(Y_{t-1}–Y_{t-2})+ar2(Y_{t-2}–Y_{t-3})+ar3(Y_{t-3}–Y_{t-4})+ar4(Y_{t-4}–Y_{t-3})+ar5(Y_{t-5}–Y_{t-4})+e1u_{t-1}+e2u_{t-2}+e3u_{t-3}+e4u_{t-4}+e5u_{t-5}+[3.704234e^{-04}+9.816956e^{-01}{X_{t-1}^2} + 6.670345e^{-09}{u_{t-1}^2}]\n",
    "\\end{equation*}\n",
    "\n",
    "([Volver al listado de ecuaciones](#seccion 5))"
   ]
  },
  {
   "cell_type": "markdown",
   "metadata": {},
   "source": [
    "### <a id='seccionP3'></a> P3 Cebolla Cabezona"
   ]
  },
  {
   "cell_type": "markdown",
   "metadata": {},
   "source": [
    "\\begin{equation*}\n",
    "(Y_t –Y_{t-1})=7.05067602+1.03505134(Y_{t-1}–Y_{t-2})+0.73877787(Y_{t-2}–Y_{t-3})-0.78377953(Y_{t-3}–Y_{t-4})-0.01388057(Y_{t-4}–Y_{t-3})-0.31756992u_{t-1}-0.78240257u_{t-2}-0.31067146u_{t-3}+[0.007297969+0.413774395{X_{t-1}^2} +0.43155022{u_{t-1}^2}]\n",
    "\\end{equation*}\n",
    "\n",
    "([Volver al listado de ecuaciones](#seccion 5))"
   ]
  },
  {
   "cell_type": "markdown",
   "metadata": {},
   "source": [
    "### <a id='seccionP4'></a>P4 Cebolla junca"
   ]
  },
  {
   "cell_type": "markdown",
   "metadata": {},
   "source": [
    "\\begin{equation*}\n",
    "(Y_t –Y_{t-1})=6.9722087+1.5831481(Y_{t-1}–Y_{t-2})-0.4711699(Y_{t-2}–Y_{t-3})-0.1524126(Y_{t-3}–Y_{t-4})-0.8831530u_{t-1}+0.2592950u_{t-2}+[1.577204e^{-04}+9.927226e^{-01}{X_{t-1}^2} +3.305967e^{-08}{u_{t-1}^2}]\n",
    "\\end{equation*}\n",
    "\n",
    "([Volver al listado de ecuaciones](#seccion 5))"
   ]
  },
  {
   "cell_type": "markdown",
   "metadata": {},
   "source": [
    "### <a id='seccionP5'></a>P5 \tCilantro"
   ]
  },
  {
   "cell_type": "markdown",
   "metadata": {},
   "source": [
    "\\begin{equation*}\n",
    "(Y_t –Y_{t-1})=8.69651107+0.01681842(Y_{t-1}–Y_{t-2})+0.55853008(Y_{t-2}–Y_{t-3})-0.37650259(Y_{t-3}–Y_{t-4})+0.89142577 u_{t-1}-0.02637869u_{t-2}+[9.062680e^{-0.4}+9.868391e^{-01}{X_{t-1}^2} + 6.968406e^{-10}{u_{t-1}^2}]\n",
    "\\end{equation*}\n",
    "\n",
    "([Volver al listado de ecuaciones](#seccion 5))"
   ]
  },
  {
   "cell_type": "markdown",
   "metadata": {},
   "source": [
    "### <a id='seccionP6'></a>P6\tCebada\t"
   ]
  },
  {
   "cell_type": "markdown",
   "metadata": {},
   "source": [
    "\\begin{equation*}\n",
    "(Y_t –Y_{t-1})=7.49107175 +0.15702902  (Y_{t-1}–Y_{t-2})+0.39231209 (Y_{t-2}–Y_{t-3})-0.04487573 (Y_{t-3}–Y_{t-4})-0.22912665  (Y_{t-4}–Y_{t-3})+0.69000304  (Y_{t-5}–Y_{t-4})+0.39242538 u_{t-1}+0.03609648u_{t-2}+0.23783305u_{t-3}+0.2979619u_{t-4}+0.55438873u_{t-5}+[2.503525e^{-05}+7.160910e^{-01}{X_{t-1}^2} +2.829089e^{-01} {u_{t-1}^2}]\n",
    "\\end{equation*}\n",
    "\n",
    "([Volver al listado de ecuaciones](#seccion 5))"
   ]
  },
  {
   "cell_type": "markdown",
   "metadata": {},
   "source": [
    "### <a id='seccionP7'></a>P7 Maiz\t"
   ]
  },
  {
   "cell_type": "markdown",
   "metadata": {},
   "source": [
    "\\begin{equation*}\n",
    "(Y_t –Y_{t-1})=7.60471985 +0.86253897(Y_{t-1}–Y_{t-2})+0.09128181 (Y_{t-2}–Y_{t-3})-0.21456497  1u_{t-1}+[4.928397e^{-07}+9.989993e^{-01}{X_{t-1}^2} +1.051195e^{-08}{u_{t-1}^2}]\n",
    "\\end{equation*}\n",
    "\n",
    "([Volver al listado de ecuaciones](#seccion 5))"
   ]
  },
  {
   "cell_type": "markdown",
   "metadata": {},
   "source": [
    "### <a id='seccionP8'></a>P8 Frijol\t"
   ]
  },
  {
   "cell_type": "markdown",
   "metadata": {},
   "source": [
    "\\begin{equation*}\n",
    "(Y_t –Y_{t-1})=7.61888209+0.05895616 (Y_{t-1}–Y_{t-2})-0.29848931  (Y_{t-2}–Y_{t-3})+0.39168946  (Y_{t-3}–Y_{t-4})+0.51505753  (Y_{t-4}–Y_{t-3})+0.75555751  u_{t-1}+1.13319533 u_{t-2}+0.47534284  u_{t-3}+[2.262364e^{-05}+9.989998e^{-01}{X_{t-1}^2} + 3.710068e^{-10}{u_{t-1}^2}]\n",
    "\\end{equation*}\n",
    "\n",
    "([Volver al listado de ecuaciones](#seccion 5))"
   ]
  },
  {
   "cell_type": "markdown",
   "metadata": {},
   "source": [
    "### <a id='seccionP9'></a>P9 Habichuela\t"
   ]
  },
  {
   "cell_type": "markdown",
   "metadata": {},
   "source": [
    "\\begin{equation*}\n",
    "(Y_t –Y_{t-1})=7.2083678 -0.2037103 (Y_{t-1}–Y_{t-2})-0.5413147 (Y_{t-2}–Y_{t-3})-0.1732730(Y_{t-3}–Y_{t-4})+0.3645176  (Y_{t-4}–Y_{t-3})+0.2467020  (Y_{t-5}–Y_{t-4})+1.0413189  u_{t-1}+1.2904921 u_{t-2}+1.1257560u_{t-3}+0.4912510u_{t-4}+\n",
    "[8.946967e^{-05}+9.989996e^{-01}{X_{t-1}^2} + 5.569119e^{-10}{u_{t-1}^2}]\n",
    "\\end{equation*}\n",
    "\n",
    "([Volver al listado de ecuaciones](#seccion 5))"
   ]
  },
  {
   "cell_type": "markdown",
   "metadata": {},
   "source": [
    "### <a id='seccionP10'></a>P10 Lechuga\t\n"
   ]
  },
  {
   "cell_type": "markdown",
   "metadata": {},
   "source": [
    "\\begin{equation*}\n",
    "(Y_t –Y_{t-1})=6.97860233 +0.82046126  (Y_{t-1}–Y_{t-2})+0.21687765 u_{t-1}-0.09218829  u_{t-2}+0.01110616  u_{t-3}+[0.001941727 +0.501137507 {X_{t-1}^2} +0.332256684{u_{t-1}^2}]\n",
    "\\end{equation*}\n",
    "\n",
    "([Volver al listado de ecuaciones](#seccion 5))"
   ]
  },
  {
   "cell_type": "markdown",
   "metadata": {},
   "source": [
    "### <a id='seccionP11'></a>P11 Perejil\t"
   ]
  },
  {
   "cell_type": "markdown",
   "metadata": {},
   "source": [
    "\\begin{equation*}\n",
    "(Y_t –Y_{t-1})=8.5508773 +0.2388668 (Y_{t-1}–Y_{t-2})+0.5495240(Y_{t-2}–Y_{t-3})+0.4932393 u_{t-1}+[0.01276746 +0.14403695 {X_{t-1}^2} + 0.43945147 {u_{t-1}^2}]\n",
    "\\end{equation*}\n",
    "\n",
    "([Volver al listado de ecuaciones](#seccion 5))"
   ]
  },
  {
   "cell_type": "markdown",
   "metadata": {},
   "source": [
    "### <a id='seccionP12'></a>P12 Pimenton\t"
   ]
  },
  {
   "cell_type": "markdown",
   "metadata": {},
   "source": [
    "\\begin{equation*}\n",
    "(Y_t –Y_{t-1})=7.51297313 +0.85104290 (Y_{t-1}–Y_{t-2})+0.04924584u_{t-1}+[0.01238424 +0.22372915 {X_{t-1}^2} + 0.34844438 {u_{t-1}^2}]\n",
    "\\end{equation*}\n",
    "\n",
    "([Volver al listado de ecuaciones](#seccion 5))"
   ]
  },
  {
   "cell_type": "markdown",
   "metadata": {},
   "source": [
    "### <a id='seccionP13'></a> P13 Tomate\t"
   ]
  },
  {
   "cell_type": "markdown",
   "metadata": {},
   "source": [
    "\\begin{equation*}\n",
    "(Y_t –Y_{t-1})=7.30435678 -0.97608571  (Y_{t-1}–Y_{t-2})+0.60150857  (Y_{t-2}–Y_{t-3})+0.71965653  (Y_{t-3}–Y_{t-4})+2.01762302  u_{t-1}+1.28694857  u_{t-2}+0.11182957 u_{t-3}+e4u_{t-4}+[4.949029e^{-05 }+9.989998e^{-01 }{X_{t-1}^2} + 2.856260e^{-10 }{u_{t-1}^2}]\n",
    "\\end{equation*}\n",
    "\n",
    "([Volver al listado de ecuaciones](#seccion 5))"
   ]
  },
  {
   "cell_type": "markdown",
   "metadata": {},
   "source": [
    "### <a id='seccionP14'></a>P14 Banano\t"
   ]
  },
  {
   "cell_type": "markdown",
   "metadata": {},
   "source": [
    "\\begin{equation*}\n",
    "(Y_t –Y_{t-1})=7.09454169 +1.08334498 (Y_{t-1}–Y_{t-2})-0.21902430  (Y_{t-2}–Y_{t-3})+0.12771777  (Y_{t-3}–Y_{t-4})0.01801549  u_{t-1}+[0.0003492832 +0.3772963138 {X_{t-1}^2} + 0.3631224741 {u_{t-1}^2}]\n",
    "\\end{equation*}\n",
    "\n",
    "([Volver al listado de ecuaciones](#seccion 5))\n"
   ]
  },
  {
   "cell_type": "markdown",
   "metadata": {},
   "source": [
    "### <a id='seccionP15'></a>P15 Lulo\t"
   ]
  },
  {
   "cell_type": "markdown",
   "metadata": {},
   "source": [
    "\\begin{equation*}\n",
    "(Y_t –Y_{t-1})=7.8489154 +0.7181886 u_{t-1}+[5.564117e^{-03}+7.114106e^{-09}{X_{t-1}^2} + 1.814536e^{-01}{u_{t-1}^2}]\n",
    "\\end{equation*}\n",
    "\n",
    "([Volver al listado de ecuaciones](#seccion 5))"
   ]
  },
  {
   "cell_type": "markdown",
   "metadata": {},
   "source": [
    "### <a id='seccionP16'></a>P16 Papaya\t"
   ]
  },
  {
   "cell_type": "markdown",
   "metadata": {},
   "source": [
    "\\begin{equation*}\n",
    "(Y_t –Y_{t-1})=7.135549764 +1.375959344 (Y_{t-1}–Y_{t-2})-0.475165772 (Y_{t-2}–Y_{t-3})-0.008584973u_{t-1}+[0.0006356732 +0.7774902686 {X_{t-1}^2} + 0.0850591932 {u_{t-1}^2}]\n",
    "\\end{equation*}\n",
    "\n",
    "([Volver al listado de ecuaciones](#seccion 5))"
   ]
  },
  {
   "cell_type": "markdown",
   "metadata": {},
   "source": [
    "### <a id='seccionP17'></a>P17 Piña"
   ]
  },
  {
   "cell_type": "markdown",
   "metadata": {},
   "source": [
    "\\begin{equation*}\n",
    "(Y_t –Y_{t-1})=6.48782335 +0.57030551  (Y_{t-1}–Y_{t-2})+0.68026652 (Y_{t-2}–Y_{t-3})-0.91886326  (Y_{t-3}–Y_{t-4})+0.23840978  (Y_{t-4}–Y_{t-3})+0.26793598 (Y_{t-5}–Y_{t-4})+0.09290026 u_{t-1}-0.30196872  u_{t-2}+0.59725709  u_{t-3}+[8.064475e^{-06}+9.989999e^{-01}{X_{t-1}^2} +3.481836e^{-10}{u_{t-1}^2}]\n",
    "\\end{equation*}\n",
    "\n",
    "([Volver al listado de ecuaciones](#seccion 5))"
   ]
  },
  {
   "cell_type": "markdown",
   "metadata": {},
   "source": [
    "### <a id='seccionP18'></a>P18 Arracacha\t"
   ]
  },
  {
   "cell_type": "markdown",
   "metadata": {},
   "source": [
    "\\begin{equation*}\n",
    "(Y_t –Y_{t-1})=7.100025658 +0.009914108  (Y_{t-1}–Y_{t-2})+0.869301929 (Y_{t-2}–Y_{t-3})-0.001711566  (Y_{t-3}–Y_{t-4})+0.089154455  (Y_{t-4}–Y_{t-3})+0.608215019 u_{t-1}-0.374316018 u_{t-2}+[0.009676673 +0.030370318 {X_{t-1}^2} +0.422331542 {u_{t-1}^2}]\n",
    "\\end{equation*}\n",
    "\n",
    "([Volver al listado de ecuaciones](#seccion 5))"
   ]
  },
  {
   "cell_type": "markdown",
   "metadata": {},
   "source": [
    "### <a id='seccionP19'></a>P19 Papa"
   ]
  },
  {
   "cell_type": "markdown",
   "metadata": {},
   "source": [
    "\\begin{equation*}\n",
    "(Y_t –Y_{t-1})=6.9299316 +1.0709694 (Y_{t-1}–Y_{t-2})-0.1092919 (Y_{t-2}–Y_{t-3})[7.830155e^{-06}+9.989999e^{-01}{X_{t-1}^2} +5.719463e^{-10}{u_{t-1}^2}]\n",
    "\\end{equation*}\n",
    "\n",
    "([Volver al listado de ecuaciones](#seccion 5))"
   ]
  },
  {
   "cell_type": "markdown",
   "metadata": {},
   "source": [
    "### <a id='seccionP20'></a>P20 Plátano"
   ]
  },
  {
   "cell_type": "markdown",
   "metadata": {},
   "source": [
    "\\begin{equation*}\n",
    "(Y_t –Y_{t-1})=7.22396619-0.26471887  (Y_{t-1}–Y_{t-2})+0.18933013  (Y_{t-2}–Y_{t-3})+0.86768070  (Y_{t-3}–Y_{t-4})+0.95712236  u_{t-1}+0.68608348 u_{t-2}-0.26705815 u_{t-3}-0.01694113  u_{t-4}+[3.659439e^{-05}+9.963944e^{-01}{X_{t-1}^2} + 2.676367e^{-15}{u_{t-1}^2}]\n",
    "\\end{equation*}\n",
    "\n",
    "([Volver al listado de ecuaciones](#seccion 5))"
   ]
  },
  {
   "cell_type": "markdown",
   "metadata": {},
   "source": [
    "### <a id='seccionP21'></a>P21 Yuca"
   ]
  },
  {
   "cell_type": "markdown",
   "metadata": {},
   "source": [
    "\\begin{equation*}\n",
    "(Y_t –Y_{t-1})=6.81904173 -0.73703004  (Y_{t-1}–Y_{t-2})+0.64990752  (Y_{t-2}–Y_{t-3})+0.95037542  (Y_{t-3}–Y_{t-4})+0.08954752  (Y_{t-4}–Y_{t-3})+1.33554235  u_{t-1}+0.33276069 u_{t-2}-0.40335492u_{t-3}-0.07987653u_{t-4}-0.06892027u_{t-5}+[0.001026371 +0.589893082 {X_{t-1}^2} + 0.323391165 {u_{t-1}^2}]\n",
    "\\end{equation*}\n",
    "\n",
    "([Volver al listado de ecuaciones](#seccion 5))"
   ]
  },
  {
   "cell_type": "markdown",
   "metadata": {},
   "source": [
    "\n"
   ]
  },
  {
   "cell_type": "markdown",
   "metadata": {},
   "source": [
    "# <a id='seccion 6'></a> 6. Discusión y observaciones generales"
   ]
  },
  {
   "cell_type": "markdown",
   "metadata": {},
   "source": [
    "A partir de la aproximación metodológica presentada en este Notebook, es posible construir las diferentes ecuaciones de pronóstico a utilizar para la generación del parámetros _Precio de venta_ que alimenta el modelo de optimización; sin embargo, es necesario resaltar que las ecuaciones desarrolladas son sensibles a modificaciones. Dicha afirmación se deriva de la sensibilidad de que tienen los modelos a los rezagos considerados pues, de 260 datos disponibles, sólo fueron utilizados los 5 rezagos más recientes (tanto para el parámetro $p$, como para el $q$) y, si bien una cantidad mayor de rezagos puede mejorar el pronóstico, por el principio de parsimonia se propende por modelos más sencillos, ya que para este caso, s encontraga una gran carga computacional requerida para estimar los mejores modelos utilziando la función _auto.arima_.\n",
    "\n",
    "Ahora bien, con el propósito de mejorar los modelos de pronósticos y así aumentar la calidad de los parámetros que alimenten el modelo de optimización, para futuros trabajos se propone la integración de técnicas de aprendizaje mezcladas con modelos autoregresivos."
   ]
  },
  {
   "cell_type": "markdown",
   "metadata": {},
   "source": [
    "# Referencias"
   ]
  },
  {
   "cell_type": "markdown",
   "metadata": {},
   "source": [
    "Fix, E.; Hodges, J.L. (1989). (1951): An Important Contribution to Nonparametric Discriminant Analysis and Density Estimation: Commentary on Fix and Hodges (1951). _International Statistical Review / Revue Internationale de Statistique_ 57 (3): 233-238. doi:10.2307/1403796..\n",
    "\n",
    "Nisar, S., & Hanif, M. (2012). Testing weak form of efficient market hypothesis: Empirical evidence from South-Asia. _World Applied Sciences Journal_, 17(4), 414–427. https://doi.org/10.3968/5524\n",
    "\n",
    "Hassan, A., Abdullah, M. S., & Shah, Z. A. (2007). Testing of random walks and market efficiency in an emerging market: An empirical analysis of Karachi Stock Exchange. _The Business Review_, Cambridge, 9(1), 271–280."
   ]
  },
  {
   "cell_type": "code",
   "execution_count": 17,
   "metadata": {},
   "outputs": [],
   "source": [
    "write.csv(DATA, file=\"PRECIOS.csv\")  "
   ]
  }
 ],
 "metadata": {
  "kernelspec": {
   "display_name": "R",
   "language": "R",
   "name": "ir"
  },
  "language_info": {
   "codemirror_mode": "r",
   "file_extension": ".r",
   "mimetype": "text/x-r-source",
   "name": "R",
   "pygments_lexer": "r",
   "version": "3.4.3"
  }
 },
 "nbformat": 4,
 "nbformat_minor": 2
}
